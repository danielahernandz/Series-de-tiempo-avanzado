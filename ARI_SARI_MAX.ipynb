{
  "nbformat": 4,
  "nbformat_minor": 0,
  "metadata": {
    "colab": {
      "provenance": [],
      "authorship_tag": "ABX9TyPpo/BOKUuiiKQIlpN54jKm",
      "include_colab_link": true
    },
    "kernelspec": {
      "name": "python3",
      "display_name": "Python 3"
    },
    "language_info": {
      "name": "python"
    }
  },
  "cells": [
    {
      "cell_type": "markdown",
      "metadata": {
        "id": "view-in-github",
        "colab_type": "text"
      },
      "source": [
        "<a href=\"https://colab.research.google.com/github/danielahernandz/Series-de-tiempo-avanzado/blob/main/ARI_SARI_MAX.ipynb\" target=\"_parent\"><img src=\"https://colab.research.google.com/assets/colab-badge.svg\" alt=\"Open In Colab\"/></a>"
      ]
    },
    {
      "cell_type": "code",
      "execution_count": null,
      "metadata": {
        "id": "8WiyHbVVaZWi"
      },
      "outputs": [],
      "source": [
        "import pandas as pd\n",
        "import numpy as np\n",
        "import matplotlib.pyplot as plt\n",
        "import statsmodels.graphics.tsaplots as sgt\n",
        "import statsmodels.tsa.stattools as sts\n",
        "# from statsmodels.tsa.arima_model as ARMA\n",
        "from statsmodels.tsa.arima.model import ARIMA\n",
        "from scipy.stats.distributions import chi2\n",
        "from math import sqrt\n",
        "import seaborn as sns\n",
        "sns.set()"
      ]
    },
    {
      "cell_type": "code",
      "source": [
        "raw_csv_data = pd.read_csv('Index2018.csv')\n",
        "df_comp = raw_csv_data\n",
        "df_comp.date = pd.to_datetime(df_comp.date, dayfirst = True)\n",
        "df_comp.set_index(\"date\", inplace=True)\n",
        "df_comp = df_comp.asfreq('b')\n",
        "df_comp = df_comp.fillna(method='ffill')\n",
        "\n",
        "df_comp['market_value']= df_comp.ftse\n",
        "\n",
        "# del df_comp['spx']\n",
        "# del df_comp['dax']\n",
        "# del df_comp['ftse']\n",
        "# del df_comp['nikkei']\n",
        "\n",
        "#Datos de train y test\n",
        "size = int(len(df_comp)*0.8)\n",
        "df, df_test = df_comp.iloc[:size], df_comp.iloc[size:]"
      ],
      "metadata": {
        "id": "QP3oqajiadVi"
      },
      "execution_count": null,
      "outputs": []
    },
    {
      "cell_type": "markdown",
      "source": [
        "##LLR Test"
      ],
      "metadata": {
        "id": "hQFL8MwAhzKd"
      }
    },
    {
      "cell_type": "code",
      "source": [
        "#Ignore harmless warnings\n",
        "import warnings\n",
        "warnings.filterwarnings(\"ignore\")\n",
        "\n",
        "def LLR_test(model_1, model_2, DF=1):\n",
        "  #hallamos las log-verosimilitudes de los modelos para ello usamos el metodo .llf\n",
        "  L1 = model_1.llf\n",
        "  L2 = model_2.llf\n",
        "  LR = (2*(L2-L1)) #Estadistico\n",
        "  p = chi2.sf(LR, DF).round(3) #distribución del estadistico es una CHI2, por el estadiscito los grado de libertad y se redondea a  decimales.\n",
        "  return p"
      ],
      "metadata": {
        "id": "iG2w-C9lh3dP"
      },
      "execution_count": null,
      "outputs": []
    },
    {
      "cell_type": "markdown",
      "source": [
        "Creating returns"
      ],
      "metadata": {
        "id": "pL_CuQQYiD5Q"
      }
    },
    {
      "cell_type": "code",
      "source": [
        "df['returns'] = df.market_value.pct_change(1)*100"
      ],
      "metadata": {
        "id": "4XY68PQuiG_P"
      },
      "execution_count": null,
      "outputs": []
    },
    {
      "cell_type": "markdown",
      "source": [
        "#ARIMA (1,1,1)\n",
        "Desventaja perdida de datos por volver estacionaria, más costosos computacionalmente, inestabilidad númerica."
      ],
      "metadata": {
        "id": "rfiKroS6iXhc"
      }
    },
    {
      "cell_type": "code",
      "source": [
        "#Integración: transformación de datos subyacentes.\n",
        "modelarima= ARIMA(df.market_value, order=(1,1,1))\n",
        "resultarima= modelarima.fit()\n",
        "resultarima.summary()"
      ],
      "metadata": {
        "colab": {
          "base_uri": "https://localhost:8080/",
          "height": 430
        },
        "id": "zaJmp_mNiZnx",
        "outputId": "8918edc8-326a-45e6-d731-77967d4bd416"
      },
      "execution_count": null,
      "outputs": [
        {
          "output_type": "execute_result",
          "data": {
            "text/plain": [
              "<class 'statsmodels.iolib.summary.Summary'>\n",
              "\"\"\"\n",
              "                               SARIMAX Results                                \n",
              "==============================================================================\n",
              "Dep. Variable:           market_value   No. Observations:                 5021\n",
              "Model:                 ARIMA(1, 1, 1)   Log Likelihood              -27604.005\n",
              "Date:                Tue, 13 Jun 2023   AIC                          55214.010\n",
              "Time:                        23:05:06   BIC                          55233.574\n",
              "Sample:                    01-07-1994   HQIC                         55220.866\n",
              "                         - 04-05-2013                                         \n",
              "Covariance Type:                  opg                                         \n",
              "==============================================================================\n",
              "                 coef    std err          z      P>|z|      [0.025      0.975]\n",
              "------------------------------------------------------------------------------\n",
              "ar.L1          0.7459      0.059     12.653      0.000       0.630       0.861\n",
              "ma.L1         -0.7919      0.053    -14.924      0.000      -0.896      -0.688\n",
              "sigma2      3498.7750     40.933     85.476      0.000    3418.548    3579.002\n",
              "===================================================================================\n",
              "Ljung-Box (L1) (Q):                   2.63   Jarque-Bera (JB):              3326.22\n",
              "Prob(Q):                              0.11   Prob(JB):                         0.00\n",
              "Heteroskedasticity (H):               1.90   Skew:                            -0.32\n",
              "Prob(H) (two-sided):                  0.00   Kurtosis:                         6.94\n",
              "===================================================================================\n",
              "\n",
              "Warnings:\n",
              "[1] Covariance matrix calculated using the outer product of gradients (complex-step).\n",
              "\"\"\""
            ],
            "text/html": [
              "<table class=\"simpletable\">\n",
              "<caption>SARIMAX Results</caption>\n",
              "<tr>\n",
              "  <th>Dep. Variable:</th>     <td>market_value</td>   <th>  No. Observations:  </th>    <td>5021</td>   \n",
              "</tr>\n",
              "<tr>\n",
              "  <th>Model:</th>            <td>ARIMA(1, 1, 1)</td>  <th>  Log Likelihood     </th> <td>-27604.005</td>\n",
              "</tr>\n",
              "<tr>\n",
              "  <th>Date:</th>            <td>Tue, 13 Jun 2023</td> <th>  AIC                </th>  <td>55214.010</td>\n",
              "</tr>\n",
              "<tr>\n",
              "  <th>Time:</th>                <td>23:05:06</td>     <th>  BIC                </th>  <td>55233.574</td>\n",
              "</tr>\n",
              "<tr>\n",
              "  <th>Sample:</th>             <td>01-07-1994</td>    <th>  HQIC               </th>  <td>55220.866</td>\n",
              "</tr>\n",
              "<tr>\n",
              "  <th></th>                   <td>- 04-05-2013</td>   <th>                     </th>      <td> </td>    \n",
              "</tr>\n",
              "<tr>\n",
              "  <th>Covariance Type:</th>        <td>opg</td>       <th>                     </th>      <td> </td>    \n",
              "</tr>\n",
              "</table>\n",
              "<table class=\"simpletable\">\n",
              "<tr>\n",
              "     <td></td>       <th>coef</th>     <th>std err</th>      <th>z</th>      <th>P>|z|</th>  <th>[0.025</th>    <th>0.975]</th>  \n",
              "</tr>\n",
              "<tr>\n",
              "  <th>ar.L1</th>  <td>    0.7459</td> <td>    0.059</td> <td>   12.653</td> <td> 0.000</td> <td>    0.630</td> <td>    0.861</td>\n",
              "</tr>\n",
              "<tr>\n",
              "  <th>ma.L1</th>  <td>   -0.7919</td> <td>    0.053</td> <td>  -14.924</td> <td> 0.000</td> <td>   -0.896</td> <td>   -0.688</td>\n",
              "</tr>\n",
              "<tr>\n",
              "  <th>sigma2</th> <td> 3498.7750</td> <td>   40.933</td> <td>   85.476</td> <td> 0.000</td> <td> 3418.548</td> <td> 3579.002</td>\n",
              "</tr>\n",
              "</table>\n",
              "<table class=\"simpletable\">\n",
              "<tr>\n",
              "  <th>Ljung-Box (L1) (Q):</th>     <td>2.63</td> <th>  Jarque-Bera (JB):  </th> <td>3326.22</td>\n",
              "</tr>\n",
              "<tr>\n",
              "  <th>Prob(Q):</th>                <td>0.11</td> <th>  Prob(JB):          </th>  <td>0.00</td>  \n",
              "</tr>\n",
              "<tr>\n",
              "  <th>Heteroskedasticity (H):</th> <td>1.90</td> <th>  Skew:              </th>  <td>-0.32</td> \n",
              "</tr>\n",
              "<tr>\n",
              "  <th>Prob(H) (two-sided):</th>    <td>0.00</td> <th>  Kurtosis:          </th>  <td>6.94</td>  \n",
              "</tr>\n",
              "</table><br/><br/>Warnings:<br/>[1] Covariance matrix calculated using the outer product of gradients (complex-step)."
            ]
          },
          "metadata": {},
          "execution_count": 5
        }
      ]
    },
    {
      "cell_type": "markdown",
      "source": [
        "#Residuals of the ARIMA(1,1,1)"
      ],
      "metadata": {
        "id": "RrrvOTz_iH61"
      }
    },
    {
      "cell_type": "code",
      "source": [
        "df['residuos111'] = resultarima.resid.iloc[:]\n",
        "sgt.plot_acf(df.residuos111[1:], zero= False, lags=40)\n",
        "plt.title('ACF of residuals for ARIMA(1,1,1)',size=20)\n",
        "plt.show()\n",
        "\n",
        "#Retrasos de 3 y 4 días son altamente significativos."
      ],
      "metadata": {
        "colab": {
          "base_uri": "https://localhost:8080/",
          "height": 465
        },
        "id": "ebzaSXqZjf54",
        "outputId": "e1c500cf-60c1-4de0-d8b4-828fd4c53025"
      },
      "execution_count": null,
      "outputs": [
        {
          "output_type": "display_data",
          "data": {
            "text/plain": [
              "<Figure size 640x480 with 1 Axes>"
            ],
            "image/png": "[encoded data removed]"
          },
          "metadata": {}
        }
      ]
    },
    {
      "cell_type": "markdown",
      "source": [
        "#Higher-Lag ARIMA Models"
      ],
      "metadata": {
        "id": "lNrRwr35kETb"
      }
    },
    {
      "cell_type": "code",
      "source": [
        "modelarima112= ARIMA(df.market_value, order=(1,1,2))\n",
        "resultarima112= modelarima112.fit()\n",
        "modelarima113= ARIMA(df.market_value, order=(1,1,3))\n",
        "resultarima113= modelarima113.fit()\n",
        "modelarima211= ARIMA(df.market_value, order=(2,1,1))\n",
        "resultarima211= modelarima211.fit()\n",
        "modelarima311= ARIMA(df.market_value, order=(3,1,1))\n",
        "resultarima311= modelarima311.fit()\n",
        "modelarima312= ARIMA(df.market_value, order=(3,1,2))\n",
        "resultarima312= modelarima312.fit() #?"
      ],
      "metadata": {
        "id": "IzBskpzOkJ6H"
      },
      "execution_count": null,
      "outputs": []
    },
    {
      "cell_type": "code",
      "source": [
        "print(\"\\n ARIMA(1,1,1): \\tLL = \", resultarima.llf, \"\\tAIC = \", resultarima.aic)\n",
        "print(\"\\n ARIMA(1,1,2): \\tLL = \", resultarima112.llf, \"\\tAIC = \", resultarima112.aic)\n",
        "print(\"\\n ARIMA(1,1,3): \\tLL = \", resultarima113.llf, \"\\tAIC = \", resultarima113.aic)\n",
        "print(\"\\n ARIMA(2,1,1): \\tLL = \", resultarima211.llf, \"\\tAIC = \", resultarima211.aic)\n",
        "print(\"\\n ARIMA(3,1,1): \\tLL = \", resultarima311.llf, \"\\tAIC = \", resultarima311.aic)\n",
        "print(\"\\n ARIMA(3,1,2): \\tLL = \", resultarima312.llf, \"\\tAIC = \", resultarima312.aic)"
      ],
      "metadata": {
        "colab": {
          "base_uri": "https://localhost:8080/"
        },
        "id": "Caq5Q2Tym6_N",
        "outputId": "5c42bd46-8eec-49a8-cd7c-90980ccd3053"
      },
      "execution_count": null,
      "outputs": [
        {
          "output_type": "stream",
          "name": "stdout",
          "text": [
            "\n",
            " ARIMA(1,1,1): \tLL =  -27604.00511572735 \tAIC =  55214.0102314547\n",
            "\n",
            " ARIMA(1,1,2): \tLL =  -27600.40763254081 \tAIC =  55208.81526508162\n",
            "\n",
            " ARIMA(1,1,3): \tLL =  -27590.723481950256 \tAIC =  55191.44696390051\n",
            "\n",
            " ARIMA(2,1,1): \tLL =  -27600.130551053444 \tAIC =  55208.26110210689\n",
            "\n",
            " ARIMA(3,1,1): \tLL =  -27592.336116473074 \tAIC =  55194.67223294615\n",
            "\n",
            " ARIMA(3,1,2): \tLL =  -27590.920318056138 \tAIC =  55193.840636112276\n"
          ]
        }
      ]
    },
    {
      "cell_type": "code",
      "source": [
        "print(\"\\nLLR test p-value = \" + str (LLR_test (resultarima312, resultarima113))) #modelos similares elegimos 113 por menor AIC\n",
        "print(\"\\nLLR test p-value = \" + str (LLR_test (resultarima112, resultarima113))) #Modelo 113 es mejor que 112"
      ],
      "metadata": {
        "colab": {
          "base_uri": "https://localhost:8080/"
        },
        "id": "IxwEOOsboYAp",
        "outputId": "3d54c662-3e30-47fe-9ba9-9bceee93b2d4"
      },
      "execution_count": null,
      "outputs": [
        {
          "output_type": "stream",
          "name": "stdout",
          "text": [
            "\n",
            "LLR test p-value = 0.53\n",
            "\n",
            "LLR test p-value = 0.0\n"
          ]
        }
      ]
    },
    {
      "cell_type": "code",
      "source": [
        "df['residual113'] = resultarima113.resid\n",
        "sgt.plot_acf(df.residual113[1:], zero= False, lags= 40)\n",
        "plt.title('ACF of residuals for ARIMA(1,1,3)', size= 20)\n",
        "plt.show()\n",
        "#Observamos que el rezago de 5 y 6 días es importante"
      ],
      "metadata": {
        "colab": {
          "base_uri": "https://localhost:8080/",
          "height": 465
        },
        "id": "H7me7Ow8o_d-",
        "outputId": "b02933f6-348a-4250-ce9f-a3414f63957f"
      },
      "execution_count": null,
      "outputs": [
        {
          "output_type": "display_data",
          "data": {
            "text/plain": [
              "<Figure size 640x480 with 1 Axes>"
            ],
            "image/png": "[encoded data removed]"
          },
          "metadata": {}
        }
      ]
    },
    {
      "cell_type": "code",
      "source": [
        "modelarima511= ARIMA(df.market_value, order=(5,1,1))\n",
        "resultarima511= modelarima511.fit()\n",
        "resultarima511.summary()"
      ],
      "metadata": {
        "colab": {
          "base_uri": "https://localhost:8080/",
          "height": 516
        },
        "id": "IOCJElgFplKY",
        "outputId": "395513fb-8be8-4bfa-b9aa-f7279575771f"
      },
      "execution_count": null,
      "outputs": [
        {
          "output_type": "execute_result",
          "data": {
            "text/plain": [
              "<class 'statsmodels.iolib.summary.Summary'>\n",
              "\"\"\"\n",
              "                               SARIMAX Results                                \n",
              "==============================================================================\n",
              "Dep. Variable:           market_value   No. Observations:                 5021\n",
              "Model:                 ARIMA(5, 1, 1)   Log Likelihood              -27586.845\n",
              "Date:                Tue, 13 Jun 2023   AIC                          55187.689\n",
              "Time:                        23:06:06   BIC                          55233.338\n",
              "Sample:                    01-07-1994   HQIC                         55203.685\n",
              "                         - 04-05-2013                                         \n",
              "Covariance Type:                  opg                                         \n",
              "==============================================================================\n",
              "                 coef    std err          z      P>|z|      [0.025      0.975]\n",
              "------------------------------------------------------------------------------\n",
              "ar.L1          0.4006      0.153      2.618      0.009       0.101       0.701\n",
              "ar.L2         -0.0444      0.011     -4.071      0.000      -0.066      -0.023\n",
              "ar.L3         -0.0542      0.013     -4.226      0.000      -0.079      -0.029\n",
              "ar.L4          0.0587      0.015      3.914      0.000       0.029       0.088\n",
              "ar.L5         -0.0580      0.009     -6.337      0.000      -0.076      -0.040\n",
              "ma.L1         -0.4208      0.153     -2.743      0.006      -0.721      -0.120\n",
              "sigma2      3479.0027     41.909     83.013      0.000    3396.862    3561.143\n",
              "===================================================================================\n",
              "Ljung-Box (L1) (Q):                   0.00   Jarque-Bera (JB):              3060.40\n",
              "Prob(Q):                              0.95   Prob(JB):                         0.00\n",
              "Heteroskedasticity (H):               1.90   Skew:                            -0.32\n",
              "Prob(H) (two-sided):                  0.00   Kurtosis:                         6.77\n",
              "===================================================================================\n",
              "\n",
              "Warnings:\n",
              "[1] Covariance matrix calculated using the outer product of gradients (complex-step).\n",
              "\"\"\""
            ],
            "text/html": [
              "<table class=\"simpletable\">\n",
              "<caption>SARIMAX Results</caption>\n",
              "<tr>\n",
              "  <th>Dep. Variable:</th>     <td>market_value</td>   <th>  No. Observations:  </th>    <td>5021</td>   \n",
              "</tr>\n",
              "<tr>\n",
              "  <th>Model:</th>            <td>ARIMA(5, 1, 1)</td>  <th>  Log Likelihood     </th> <td>-27586.845</td>\n",
              "</tr>\n",
              "<tr>\n",
              "  <th>Date:</th>            <td>Tue, 13 Jun 2023</td> <th>  AIC                </th>  <td>55187.689</td>\n",
              "</tr>\n",
              "<tr>\n",
              "  <th>Time:</th>                <td>23:06:06</td>     <th>  BIC                </th>  <td>55233.338</td>\n",
              "</tr>\n",
              "<tr>\n",
              "  <th>Sample:</th>             <td>01-07-1994</td>    <th>  HQIC               </th>  <td>55203.685</td>\n",
              "</tr>\n",
              "<tr>\n",
              "  <th></th>                   <td>- 04-05-2013</td>   <th>                     </th>      <td> </td>    \n",
              "</tr>\n",
              "<tr>\n",
              "  <th>Covariance Type:</th>        <td>opg</td>       <th>                     </th>      <td> </td>    \n",
              "</tr>\n",
              "</table>\n",
              "<table class=\"simpletable\">\n",
              "<tr>\n",
              "     <td></td>       <th>coef</th>     <th>std err</th>      <th>z</th>      <th>P>|z|</th>  <th>[0.025</th>    <th>0.975]</th>  \n",
              "</tr>\n",
              "<tr>\n",
              "  <th>ar.L1</th>  <td>    0.4006</td> <td>    0.153</td> <td>    2.618</td> <td> 0.009</td> <td>    0.101</td> <td>    0.701</td>\n",
              "</tr>\n",
              "<tr>\n",
              "  <th>ar.L2</th>  <td>   -0.0444</td> <td>    0.011</td> <td>   -4.071</td> <td> 0.000</td> <td>   -0.066</td> <td>   -0.023</td>\n",
              "</tr>\n",
              "<tr>\n",
              "  <th>ar.L3</th>  <td>   -0.0542</td> <td>    0.013</td> <td>   -4.226</td> <td> 0.000</td> <td>   -0.079</td> <td>   -0.029</td>\n",
              "</tr>\n",
              "<tr>\n",
              "  <th>ar.L4</th>  <td>    0.0587</td> <td>    0.015</td> <td>    3.914</td> <td> 0.000</td> <td>    0.029</td> <td>    0.088</td>\n",
              "</tr>\n",
              "<tr>\n",
              "  <th>ar.L5</th>  <td>   -0.0580</td> <td>    0.009</td> <td>   -6.337</td> <td> 0.000</td> <td>   -0.076</td> <td>   -0.040</td>\n",
              "</tr>\n",
              "<tr>\n",
              "  <th>ma.L1</th>  <td>   -0.4208</td> <td>    0.153</td> <td>   -2.743</td> <td> 0.006</td> <td>   -0.721</td> <td>   -0.120</td>\n",
              "</tr>\n",
              "<tr>\n",
              "  <th>sigma2</th> <td> 3479.0027</td> <td>   41.909</td> <td>   83.013</td> <td> 0.000</td> <td> 3396.862</td> <td> 3561.143</td>\n",
              "</tr>\n",
              "</table>\n",
              "<table class=\"simpletable\">\n",
              "<tr>\n",
              "  <th>Ljung-Box (L1) (Q):</th>     <td>0.00</td> <th>  Jarque-Bera (JB):  </th> <td>3060.40</td>\n",
              "</tr>\n",
              "<tr>\n",
              "  <th>Prob(Q):</th>                <td>0.95</td> <th>  Prob(JB):          </th>  <td>0.00</td>  \n",
              "</tr>\n",
              "<tr>\n",
              "  <th>Heteroskedasticity (H):</th> <td>1.90</td> <th>  Skew:              </th>  <td>-0.32</td> \n",
              "</tr>\n",
              "<tr>\n",
              "  <th>Prob(H) (two-sided):</th>    <td>0.00</td> <th>  Kurtosis:          </th>  <td>6.77</td>  \n",
              "</tr>\n",
              "</table><br/><br/>Warnings:<br/>[1] Covariance matrix calculated using the outer product of gradients (complex-step)."
            ]
          },
          "metadata": {},
          "execution_count": 12
        }
      ]
    },
    {
      "cell_type": "code",
      "source": [
        "print(\"\\n ARIMA(5,1,1): \\tLL = \", resultarima511.llf, \"\\tAIC = \", resultarima511.aic)\n",
        "print(\"\\n ARIMA(1,1,3): \\tLL = \", resultarima113.llf, \"\\tAIC = \", resultarima113.aic)\n",
        "#Se prefiere el modelo de orden 5,1,1 por mejores propiedades\n",
        "print(\"\\nLLR test p-value = \" + str (LLR_test (resultarima511, resultarima113))) # 1.0 modelo 113 es similar a 511\n",
        "print(\"\\nLLR test p-value = \" + str (LLR_test (resultarima113, resultarima511))) #0.005 modelo 511 es diferente signifivativamente de 113"
      ],
      "metadata": {
        "colab": {
          "base_uri": "https://localhost:8080/"
        },
        "id": "ZHqwu5lbp2n8",
        "outputId": "1ff7e8c5-032d-4a1b-8099-ecf2b219e8ae"
      },
      "execution_count": null,
      "outputs": [
        {
          "output_type": "stream",
          "name": "stdout",
          "text": [
            "\n",
            " ARIMA(5,1,1): \tLL =  -27586.84460959241 \tAIC =  55187.68921918482\n",
            "\n",
            " ARIMA(1,1,3): \tLL =  -27590.723481950256 \tAIC =  55191.44696390051\n",
            "\n",
            "LLR test p-value = 1.0\n",
            "\n",
            "LLR test p-value = 0.005\n"
          ]
        }
      ]
    },
    {
      "cell_type": "code",
      "source": [
        "df['residual511'] = resultarima511.resid\n",
        "sgt.plot_acf(df.residual511[1:], zero= False, lags= 40)\n",
        "plt.title('ACF of residuals for ARIMA(5,1,1)', size= 20)\n",
        "plt.show()"
      ],
      "metadata": {
        "colab": {
          "base_uri": "https://localhost:8080/",
          "height": 465
        },
        "id": "hBTN2r6tp3jc",
        "outputId": "1e2dd3ca-3367-43c5-e5c1-6b1a4da58431"
      },
      "execution_count": null,
      "outputs": [
        {
          "output_type": "display_data",
          "data": {
            "text/plain": [
              "<Figure size 640x480 with 1 Axes>"
            ],
            "image/png": "[encoded data removed]"
          },
          "metadata": {}
        }
      ]
    },
    {
      "cell_type": "markdown",
      "source": [
        "#Models with Higher Levels of Integration\n",
        "\n",
        "Confiamos en la integración cuando nuestra serie no proviene de un proceso estacionario, ya que esto convierte la serie No estacionaria en Estacionaria."
      ],
      "metadata": {
        "id": "XmQp8-sssNpF"
      }
    },
    {
      "cell_type": "code",
      "source": [
        "df['delta_prices']= df.market_value.diff(1)  #le pasamos un retraso a las diferencias"
      ],
      "metadata": {
        "id": "KfH5yr6KsTno"
      },
      "execution_count": null,
      "outputs": []
    },
    {
      "cell_type": "code",
      "source": [
        "model_delta111= ARIMA(df.delta_prices[1:], order=(1,0,1))\n",
        "result_delta111 = model_delta111.fit()\n",
        "result_delta111.summary()"
      ],
      "metadata": {
        "id": "iZ0OoNbSsbyv",
        "colab": {
          "base_uri": "https://localhost:8080/",
          "height": 452
        },
        "outputId": "8aec4d62-1779-4fa9-ce8b-3c9b59449176"
      },
      "execution_count": null,
      "outputs": [
        {
          "output_type": "execute_result",
          "data": {
            "text/plain": [
              "<class 'statsmodels.iolib.summary.Summary'>\n",
              "\"\"\"\n",
              "                               SARIMAX Results                                \n",
              "==============================================================================\n",
              "Dep. Variable:           delta_prices   No. Observations:                 5020\n",
              "Model:                 ARIMA(1, 0, 1)   Log Likelihood              -27603.666\n",
              "Date:                Tue, 13 Jun 2023   AIC                          55215.333\n",
              "Time:                        23:10:30   BIC                          55241.418\n",
              "Sample:                    01-10-1994   HQIC                         55224.473\n",
              "                         - 04-05-2013                                         \n",
              "Covariance Type:                  opg                                         \n",
              "==============================================================================\n",
              "                 coef    std err          z      P>|z|      [0.025      0.975]\n",
              "------------------------------------------------------------------------------\n",
              "const          0.5639      0.753      0.749      0.454      -0.911       2.039\n",
              "ar.L1          0.7476      0.059     12.673      0.000       0.632       0.863\n",
              "ma.L1         -0.7937      0.053    -14.871      0.000      -0.898      -0.689\n",
              "sigma2      3496.6352     41.191     84.888      0.000    3415.902    3577.368\n",
              "===================================================================================\n",
              "Ljung-Box (L1) (Q):                   2.64   Jarque-Bera (JB):              3327.38\n",
              "Prob(Q):                              0.10   Prob(JB):                         0.00\n",
              "Heteroskedasticity (H):               1.90   Skew:                            -0.32\n",
              "Prob(H) (two-sided):                  0.00   Kurtosis:                         6.94\n",
              "===================================================================================\n",
              "\n",
              "Warnings:\n",
              "[1] Covariance matrix calculated using the outer product of gradients (complex-step).\n",
              "\"\"\""
            ],
            "text/html": [
              "<table class=\"simpletable\">\n",
              "<caption>SARIMAX Results</caption>\n",
              "<tr>\n",
              "  <th>Dep. Variable:</th>     <td>delta_prices</td>   <th>  No. Observations:  </th>    <td>5020</td>   \n",
              "</tr>\n",
              "<tr>\n",
              "  <th>Model:</th>            <td>ARIMA(1, 0, 1)</td>  <th>  Log Likelihood     </th> <td>-27603.666</td>\n",
              "</tr>\n",
              "<tr>\n",
              "  <th>Date:</th>            <td>Tue, 13 Jun 2023</td> <th>  AIC                </th>  <td>55215.333</td>\n",
              "</tr>\n",
              "<tr>\n",
              "  <th>Time:</th>                <td>23:10:30</td>     <th>  BIC                </th>  <td>55241.418</td>\n",
              "</tr>\n",
              "<tr>\n",
              "  <th>Sample:</th>             <td>01-10-1994</td>    <th>  HQIC               </th>  <td>55224.473</td>\n",
              "</tr>\n",
              "<tr>\n",
              "  <th></th>                   <td>- 04-05-2013</td>   <th>                     </th>      <td> </td>    \n",
              "</tr>\n",
              "<tr>\n",
              "  <th>Covariance Type:</th>        <td>opg</td>       <th>                     </th>      <td> </td>    \n",
              "</tr>\n",
              "</table>\n",
              "<table class=\"simpletable\">\n",
              "<tr>\n",
              "     <td></td>       <th>coef</th>     <th>std err</th>      <th>z</th>      <th>P>|z|</th>  <th>[0.025</th>    <th>0.975]</th>  \n",
              "</tr>\n",
              "<tr>\n",
              "  <th>const</th>  <td>    0.5639</td> <td>    0.753</td> <td>    0.749</td> <td> 0.454</td> <td>   -0.911</td> <td>    2.039</td>\n",
              "</tr>\n",
              "<tr>\n",
              "  <th>ar.L1</th>  <td>    0.7476</td> <td>    0.059</td> <td>   12.673</td> <td> 0.000</td> <td>    0.632</td> <td>    0.863</td>\n",
              "</tr>\n",
              "<tr>\n",
              "  <th>ma.L1</th>  <td>   -0.7937</td> <td>    0.053</td> <td>  -14.871</td> <td> 0.000</td> <td>   -0.898</td> <td>   -0.689</td>\n",
              "</tr>\n",
              "<tr>\n",
              "  <th>sigma2</th> <td> 3496.6352</td> <td>   41.191</td> <td>   84.888</td> <td> 0.000</td> <td> 3415.902</td> <td> 3577.368</td>\n",
              "</tr>\n",
              "</table>\n",
              "<table class=\"simpletable\">\n",
              "<tr>\n",
              "  <th>Ljung-Box (L1) (Q):</th>     <td>2.64</td> <th>  Jarque-Bera (JB):  </th> <td>3327.38</td>\n",
              "</tr>\n",
              "<tr>\n",
              "  <th>Prob(Q):</th>                <td>0.10</td> <th>  Prob(JB):          </th>  <td>0.00</td>  \n",
              "</tr>\n",
              "<tr>\n",
              "  <th>Heteroskedasticity (H):</th> <td>1.90</td> <th>  Skew:              </th>  <td>-0.32</td> \n",
              "</tr>\n",
              "<tr>\n",
              "  <th>Prob(H) (two-sided):</th>    <td>0.00</td> <th>  Kurtosis:          </th>  <td>6.94</td>  \n",
              "</tr>\n",
              "</table><br/><br/>Warnings:<br/>[1] Covariance matrix calculated using the outer product of gradients (complex-step)."
            ]
          },
          "metadata": {},
          "execution_count": 16
        }
      ]
    },
    {
      "cell_type": "code",
      "source": [
        "model_delta111= ARIMA(df.market_value[1:], order=(1,1,1))\n",
        "result_delta111 = model_delta111.fit()\n",
        "result_delta111.summary()"
      ],
      "metadata": {
        "colab": {
          "base_uri": "https://localhost:8080/",
          "height": 430
        },
        "id": "IQlLcKMYBT_z",
        "outputId": "5fc07b80-bf0e-427c-cd80-82047f6d8af7"
      },
      "execution_count": null,
      "outputs": [
        {
          "output_type": "execute_result",
          "data": {
            "text/plain": [
              "<class 'statsmodels.iolib.summary.Summary'>\n",
              "\"\"\"\n",
              "                               SARIMAX Results                                \n",
              "==============================================================================\n",
              "Dep. Variable:           market_value   No. Observations:                 5020\n",
              "Model:                 ARIMA(1, 1, 1)   Log Likelihood              -27599.000\n",
              "Date:                Tue, 13 Jun 2023   AIC                          55203.999\n",
              "Time:                        23:21:10   BIC                          55223.562\n",
              "Sample:                    01-10-1994   HQIC                         55210.854\n",
              "                         - 04-05-2013                                         \n",
              "Covariance Type:                  opg                                         \n",
              "==============================================================================\n",
              "                 coef    std err          z      P>|z|      [0.025      0.975]\n",
              "------------------------------------------------------------------------------\n",
              "ar.L1          0.7466      0.059     12.692      0.000       0.631       0.862\n",
              "ma.L1         -0.7925      0.053    -14.970      0.000      -0.896      -0.689\n",
              "sigma2      3497.8883     40.914     85.494      0.000    3417.698    3578.078\n",
              "===================================================================================\n",
              "Ljung-Box (L1) (Q):                   2.61   Jarque-Bera (JB):              3323.83\n",
              "Prob(Q):                              0.11   Prob(JB):                         0.00\n",
              "Heteroskedasticity (H):               1.90   Skew:                            -0.32\n",
              "Prob(H) (two-sided):                  0.00   Kurtosis:                         6.93\n",
              "===================================================================================\n",
              "\n",
              "Warnings:\n",
              "[1] Covariance matrix calculated using the outer product of gradients (complex-step).\n",
              "\"\"\""
            ],
            "text/html": [
              "<table class=\"simpletable\">\n",
              "<caption>SARIMAX Results</caption>\n",
              "<tr>\n",
              "  <th>Dep. Variable:</th>     <td>market_value</td>   <th>  No. Observations:  </th>    <td>5020</td>   \n",
              "</tr>\n",
              "<tr>\n",
              "  <th>Model:</th>            <td>ARIMA(1, 1, 1)</td>  <th>  Log Likelihood     </th> <td>-27599.000</td>\n",
              "</tr>\n",
              "<tr>\n",
              "  <th>Date:</th>            <td>Tue, 13 Jun 2023</td> <th>  AIC                </th>  <td>55203.999</td>\n",
              "</tr>\n",
              "<tr>\n",
              "  <th>Time:</th>                <td>23:21:10</td>     <th>  BIC                </th>  <td>55223.562</td>\n",
              "</tr>\n",
              "<tr>\n",
              "  <th>Sample:</th>             <td>01-10-1994</td>    <th>  HQIC               </th>  <td>55210.854</td>\n",
              "</tr>\n",
              "<tr>\n",
              "  <th></th>                   <td>- 04-05-2013</td>   <th>                     </th>      <td> </td>    \n",
              "</tr>\n",
              "<tr>\n",
              "  <th>Covariance Type:</th>        <td>opg</td>       <th>                     </th>      <td> </td>    \n",
              "</tr>\n",
              "</table>\n",
              "<table class=\"simpletable\">\n",
              "<tr>\n",
              "     <td></td>       <th>coef</th>     <th>std err</th>      <th>z</th>      <th>P>|z|</th>  <th>[0.025</th>    <th>0.975]</th>  \n",
              "</tr>\n",
              "<tr>\n",
              "  <th>ar.L1</th>  <td>    0.7466</td> <td>    0.059</td> <td>   12.692</td> <td> 0.000</td> <td>    0.631</td> <td>    0.862</td>\n",
              "</tr>\n",
              "<tr>\n",
              "  <th>ma.L1</th>  <td>   -0.7925</td> <td>    0.053</td> <td>  -14.970</td> <td> 0.000</td> <td>   -0.896</td> <td>   -0.689</td>\n",
              "</tr>\n",
              "<tr>\n",
              "  <th>sigma2</th> <td> 3497.8883</td> <td>   40.914</td> <td>   85.494</td> <td> 0.000</td> <td> 3417.698</td> <td> 3578.078</td>\n",
              "</tr>\n",
              "</table>\n",
              "<table class=\"simpletable\">\n",
              "<tr>\n",
              "  <th>Ljung-Box (L1) (Q):</th>     <td>2.61</td> <th>  Jarque-Bera (JB):  </th> <td>3323.83</td>\n",
              "</tr>\n",
              "<tr>\n",
              "  <th>Prob(Q):</th>                <td>0.11</td> <th>  Prob(JB):          </th>  <td>0.00</td>  \n",
              "</tr>\n",
              "<tr>\n",
              "  <th>Heteroskedasticity (H):</th> <td>1.90</td> <th>  Skew:              </th>  <td>-0.32</td> \n",
              "</tr>\n",
              "<tr>\n",
              "  <th>Prob(H) (two-sided):</th>    <td>0.00</td> <th>  Kurtosis:          </th>  <td>6.93</td>  \n",
              "</tr>\n",
              "</table><br/><br/>Warnings:<br/>[1] Covariance matrix calculated using the outer product of gradients (complex-step)."
            ]
          },
          "metadata": {},
          "execution_count": 19
        }
      ]
    },
    {
      "cell_type": "code",
      "source": [
        "sts.adfuller(df.delta_prices[1:])\n",
        "# p-valor= 0.0 se rechaza H0, por lo tanto la serie es estacionaria"
      ],
      "metadata": {
        "colab": {
          "base_uri": "https://localhost:8080/"
        },
        "id": "Ke_8IOnIBgBF",
        "outputId": "6ac55b1f-a605-4913-f96a-da70cda7d78b"
      },
      "execution_count": null,
      "outputs": [
        {
          "output_type": "execute_result",
          "data": {
            "text/plain": [
              "(-32.244093495707475,\n",
              " 0.0,\n",
              " 5,\n",
              " 5014,\n",
              " {'1%': -3.4316548765428174,\n",
              "  '5%': -2.8621166146845334,\n",
              "  '10%': -2.5670769326348926},\n",
              " 54845.96104221891)"
            ]
          },
          "metadata": {},
          "execution_count": 18
        }
      ]
    },
    {
      "cell_type": "markdown",
      "source": [
        "#ARIMAX\n",
        "Este modelo permite incorporar variables exogenas que ambien afectan a la serie + BY."
      ],
      "metadata": {
        "id": "YYJXoNPGBt36"
      }
    },
    {
      "cell_type": "code",
      "source": [
        "datainicial = pd.read_csv('Index2018.csv')\n",
        "dataintermedia = pd.read_csv('Index2018.csv')"
      ],
      "metadata": {
        "id": "wj11Rn3dLSoc"
      },
      "execution_count": null,
      "outputs": []
    },
    {
      "cell_type": "code",
      "source": [
        "# dataintermedia.date = pd.to_datetime(dataintermedia.date, dayfirst = True)\n",
        "# dataintermedia.set_index(\"date\", inplace=True)\n",
        "# dataintermedia = dataintermedia.asfreq('b')\n",
        "# dataintermedia = dataintermedia.fillna(method='ffill')\n",
        "\n",
        "date_= dataintermedia\n",
        "date_"
      ],
      "metadata": {
        "colab": {
          "base_uri": "https://localhost:8080/",
          "height": 455
        },
        "id": "V6YbGrZELj19",
        "outputId": "de371af9-3628-4b2d-c02e-aabc184be1f0"
      },
      "execution_count": null,
      "outputs": [
        {
          "output_type": "execute_result",
          "data": {
            "text/plain": [
              "                    spx       dax         ftse    nikkei\n",
              "date                                                    \n",
              "1994-01-07   469.900000   2224.95  3445.980000  18124.01\n",
              "1994-01-10   475.270000   2225.00  3440.580000  18443.44\n",
              "1994-01-11   474.130000   2228.10  3413.770000  18485.25\n",
              "1994-01-12   474.170000   2182.06  3372.020000  18793.88\n",
              "1994-01-13   472.470000   2142.37  3360.010000  18577.26\n",
              "...                 ...       ...          ...       ...\n",
              "2018-01-23  2839.130362  13559.60  7731.827774  24124.15\n",
              "2018-01-24  2837.544008  13414.74  7643.428966  23940.78\n",
              "2018-01-25  2839.253031  13298.36  7615.839954  23669.49\n",
              "2018-01-26  2872.867839  13340.17  7665.541292  23631.88\n",
              "2018-01-29  2853.528411  13324.48  7671.533300  23629.34\n",
              "\n",
              "[6277 rows x 4 columns]"
            ],
            "text/html": [
              "\n",
              "  <div id=\"df-0a713649-b1c1-452d-ab85-37362b0dfff0\">\n",
              "    <div class=\"colab-df-container\">\n",
              "      <div>\n",
              "<style scoped>\n",
              "    .dataframe tbody tr th:only-of-type {\n",
              "        vertical-align: middle;\n",
              "    }\n",
              "\n",
              "    .dataframe tbody tr th {\n",
              "        vertical-align: top;\n",
              "    }\n",
              "\n",
              "    .dataframe thead th {\n",
              "        text-align: right;\n",
              "    }\n",
              "</style>\n",
              "<table border=\"1\" class=\"dataframe\">\n",
              "  <thead>\n",
              "    <tr style=\"text-align: right;\">\n",
              "      <th></th>\n",
              "      <th>spx</th>\n",
              "      <th>dax</th>\n",
              "      <th>ftse</th>\n",
              "      <th>nikkei</th>\n",
              "    </tr>\n",
              "    <tr>\n",
              "      <th>date</th>\n",
              "      <th></th>\n",
              "      <th></th>\n",
              "      <th></th>\n",
              "      <th></th>\n",
              "    </tr>\n",
              "  </thead>\n",
              "  <tbody>\n",
              "    <tr>\n",
              "      <th>1994-01-07</th>\n",
              "      <td>469.900000</td>\n",
              "      <td>2224.95</td>\n",
              "      <td>3445.980000</td>\n",
              "      <td>18124.01</td>\n",
              "    </tr>\n",
              "    <tr>\n",
              "      <th>1994-01-10</th>\n",
              "      <td>475.270000</td>\n",
              "      <td>2225.00</td>\n",
              "      <td>3440.580000</td>\n",
              "      <td>18443.44</td>\n",
              "    </tr>\n",
              "    <tr>\n",
              "      <th>1994-01-11</th>\n",
              "      <td>474.130000</td>\n",
              "      <td>2228.10</td>\n",
              "      <td>3413.770000</td>\n",
              "      <td>18485.25</td>\n",
              "    </tr>\n",
              "    <tr>\n",
              "      <th>1994-01-12</th>\n",
              "      <td>474.170000</td>\n",
              "      <td>2182.06</td>\n",
              "      <td>3372.020000</td>\n",
              "      <td>18793.88</td>\n",
              "    </tr>\n",
              "    <tr>\n",
              "      <th>1994-01-13</th>\n",
              "      <td>472.470000</td>\n",
              "      <td>2142.37</td>\n",
              "      <td>3360.010000</td>\n",
              "      <td>18577.26</td>\n",
              "    </tr>\n",
              "    <tr>\n",
              "      <th>...</th>\n",
              "      <td>...</td>\n",
              "      <td>...</td>\n",
              "      <td>...</td>\n",
              "      <td>...</td>\n",
              "    </tr>\n",
              "    <tr>\n",
              "      <th>2018-01-23</th>\n",
              "      <td>2839.130362</td>\n",
              "      <td>13559.60</td>\n",
              "      <td>7731.827774</td>\n",
              "      <td>24124.15</td>\n",
              "    </tr>\n",
              "    <tr>\n",
              "      <th>2018-01-24</th>\n",
              "      <td>2837.544008</td>\n",
              "      <td>13414.74</td>\n",
              "      <td>7643.428966</td>\n",
              "      <td>23940.78</td>\n",
              "    </tr>\n",
              "    <tr>\n",
              "      <th>2018-01-25</th>\n",
              "      <td>2839.253031</td>\n",
              "      <td>13298.36</td>\n",
              "      <td>7615.839954</td>\n",
              "      <td>23669.49</td>\n",
              "    </tr>\n",
              "    <tr>\n",
              "      <th>2018-01-26</th>\n",
              "      <td>2872.867839</td>\n",
              "      <td>13340.17</td>\n",
              "      <td>7665.541292</td>\n",
              "      <td>23631.88</td>\n",
              "    </tr>\n",
              "    <tr>\n",
              "      <th>2018-01-29</th>\n",
              "      <td>2853.528411</td>\n",
              "      <td>13324.48</td>\n",
              "      <td>7671.533300</td>\n",
              "      <td>23629.34</td>\n",
              "    </tr>\n",
              "  </tbody>\n",
              "</table>\n",
              "<p>6277 rows × 4 columns</p>\n",
              "</div>\n",
              "      <button class=\"colab-df-convert\" onclick=\"convertToInteractive('df-0a713649-b1c1-452d-ab85-37362b0dfff0')\"\n",
              "              title=\"Convert this dataframe to an interactive table.\"\n",
              "              style=\"display:none;\">\n",
              "        \n",
              "  <svg xmlns=\"http://www.w3.org/2000/svg\" height=\"24px\"viewBox=\"0 0 24 24\"\n",
              "       width=\"24px\">\n",
              "    <path d=\"M0 0h24v24H0V0z\" fill=\"none\"/>\n",
              "    <path d=\"M18.56 5.44l.94 2.06.94-2.06 2.06-.94-2.06-.94-.94-2.06-.94 2.06-2.06.94zm-11 1L8.5 8.5l.94-2.06 2.06-.94-2.06-.94L8.5 2.5l-.94 2.06-2.06.94zm10 10l.94 2.06.94-2.06 2.06-.94-2.06-.94-.94-2.06-.94 2.06-2.06.94z\"/><path d=\"M17.41 7.96l-1.37-1.37c-.4-.4-.92-.59-1.43-.59-.52 0-1.04.2-1.43.59L10.3 9.45l-7.72 7.72c-.78.78-.78 2.05 0 2.83L4 21.41c.39.39.9.59 1.41.59.51 0 1.02-.2 1.41-.59l7.78-7.78 2.81-2.81c.8-.78.8-2.07 0-2.86zM5.41 20L4 18.59l7.72-7.72 1.47 1.35L5.41 20z\"/>\n",
              "  </svg>\n",
              "      </button>\n",
              "      \n",
              "  <style>\n",
              "    .colab-df-container {\n",
              "      display:flex;\n",
              "      flex-wrap:wrap;\n",
              "      gap: 12px;\n",
              "    }\n",
              "\n",
              "    .colab-df-convert {\n",
              "      background-color: #E8F0FE;\n",
              "      border: none;\n",
              "      border-radius: 50%;\n",
              "      cursor: pointer;\n",
              "      display: none;\n",
              "      fill: #1967D2;\n",
              "      height: 32px;\n",
              "      padding: 0 0 0 0;\n",
              "      width: 32px;\n",
              "    }\n",
              "\n",
              "    .colab-df-convert:hover {\n",
              "      background-color: #E2EBFA;\n",
              "      box-shadow: 0px 1px 2px rgba(60, 64, 67, 0.3), 0px 1px 3px 1px rgba(60, 64, 67, 0.15);\n",
              "      fill: #174EA6;\n",
              "    }\n",
              "\n",
              "    [theme=dark] .colab-df-convert {\n",
              "      background-color: #3B4455;\n",
              "      fill: #D2E3FC;\n",
              "    }\n",
              "\n",
              "    [theme=dark] .colab-df-convert:hover {\n",
              "      background-color: #434B5C;\n",
              "      box-shadow: 0px 1px 3px 1px rgba(0, 0, 0, 0.15);\n",
              "      filter: drop-shadow(0px 1px 2px rgba(0, 0, 0, 0.3));\n",
              "      fill: #FFFFFF;\n",
              "    }\n",
              "  </style>\n",
              "\n",
              "      <script>\n",
              "        const buttonEl =\n",
              "          document.querySelector('#df-0a713649-b1c1-452d-ab85-37362b0dfff0 button.colab-df-convert');\n",
              "        buttonEl.style.display =\n",
              "          google.colab.kernel.accessAllowed ? 'block' : 'none';\n",
              "\n",
              "        async function convertToInteractive(key) {\n",
              "          const element = document.querySelector('#df-0a713649-b1c1-452d-ab85-37362b0dfff0');\n",
              "          const dataTable =\n",
              "            await google.colab.kernel.invokeFunction('convertToInteractive',\n",
              "                                                     [key], {});\n",
              "          if (!dataTable) return;\n",
              "\n",
              "          const docLinkHtml = 'Like what you see? Visit the ' +\n",
              "            '<a target=\"_blank\" href=https://colab.research.google.com/notebooks/data_table.ipynb>data table notebook</a>'\n",
              "            + ' to learn more about interactive tables.';\n",
              "          element.innerHTML = '';\n",
              "          dataTable['output_type'] = 'display_data';\n",
              "          await google.colab.output.renderOutput(dataTable, element);\n",
              "          const docLink = document.createElement('div');\n",
              "          docLink.innerHTML = docLinkHtml;\n",
              "          element.appendChild(docLink);\n",
              "        }\n",
              "      </script>\n",
              "    </div>\n",
              "  </div>\n",
              "  "
            ]
          },
          "metadata": {},
          "execution_count": 53
        }
      ]
    },
    {
      "cell_type": "code",
      "source": [
        "# dfexog= datainicial\n",
        "dfexog.date = pd.to_datetime(dfexog.date, dayfirst = True)\n",
        "dfexog.set_index(\"date\", inplace=True)\n",
        "dfexog = dfexog.asfreq('b')\n",
        "dfexog = dfexog.fillna(method='ffill')"
      ],
      "metadata": {
        "id": "3anffXMeJCjT"
      },
      "execution_count": null,
      "outputs": []
    },
    {
      "cell_type": "code",
      "source": [
        "dfexog"
      ],
      "metadata": {
        "colab": {
          "base_uri": "https://localhost:8080/",
          "height": 455
        },
        "id": "nW39i02GJuyL",
        "outputId": "dc629e51-6f2e-49b7-d9ff-3fda8cc131c2"
      },
      "execution_count": null,
      "outputs": [
        {
          "output_type": "execute_result",
          "data": {
            "text/plain": [
              "                    spx       dax    nikkei\n",
              "date                                       \n",
              "1994-01-07   469.900000   2224.95  18124.01\n",
              "1994-01-10   475.270000   2225.00  18443.44\n",
              "1994-01-11   474.130000   2228.10  18485.25\n",
              "1994-01-12   474.170000   2182.06  18793.88\n",
              "1994-01-13   472.470000   2142.37  18577.26\n",
              "...                 ...       ...       ...\n",
              "2018-01-23  2839.130362  13559.60  24124.15\n",
              "2018-01-24  2837.544008  13414.74  23940.78\n",
              "2018-01-25  2839.253031  13298.36  23669.49\n",
              "2018-01-26  2872.867839  13340.17  23631.88\n",
              "2018-01-29  2853.528411  13324.48  23629.34\n",
              "\n",
              "[6277 rows x 3 columns]"
            ],
            "text/html": [
              "\n",
              "  <div id=\"df-14a8e297-e7c4-401d-a1bd-e7532584de94\">\n",
              "    <div class=\"colab-df-container\">\n",
              "      <div>\n",
              "<style scoped>\n",
              "    .dataframe tbody tr th:only-of-type {\n",
              "        vertical-align: middle;\n",
              "    }\n",
              "\n",
              "    .dataframe tbody tr th {\n",
              "        vertical-align: top;\n",
              "    }\n",
              "\n",
              "    .dataframe thead th {\n",
              "        text-align: right;\n",
              "    }\n",
              "</style>\n",
              "<table border=\"1\" class=\"dataframe\">\n",
              "  <thead>\n",
              "    <tr style=\"text-align: right;\">\n",
              "      <th></th>\n",
              "      <th>spx</th>\n",
              "      <th>dax</th>\n",
              "      <th>nikkei</th>\n",
              "    </tr>\n",
              "    <tr>\n",
              "      <th>date</th>\n",
              "      <th></th>\n",
              "      <th></th>\n",
              "      <th></th>\n",
              "    </tr>\n",
              "  </thead>\n",
              "  <tbody>\n",
              "    <tr>\n",
              "      <th>1994-01-07</th>\n",
              "      <td>469.900000</td>\n",
              "      <td>2224.95</td>\n",
              "      <td>18124.01</td>\n",
              "    </tr>\n",
              "    <tr>\n",
              "      <th>1994-01-10</th>\n",
              "      <td>475.270000</td>\n",
              "      <td>2225.00</td>\n",
              "      <td>18443.44</td>\n",
              "    </tr>\n",
              "    <tr>\n",
              "      <th>1994-01-11</th>\n",
              "      <td>474.130000</td>\n",
              "      <td>2228.10</td>\n",
              "      <td>18485.25</td>\n",
              "    </tr>\n",
              "    <tr>\n",
              "      <th>1994-01-12</th>\n",
              "      <td>474.170000</td>\n",
              "      <td>2182.06</td>\n",
              "      <td>18793.88</td>\n",
              "    </tr>\n",
              "    <tr>\n",
              "      <th>1994-01-13</th>\n",
              "      <td>472.470000</td>\n",
              "      <td>2142.37</td>\n",
              "      <td>18577.26</td>\n",
              "    </tr>\n",
              "    <tr>\n",
              "      <th>...</th>\n",
              "      <td>...</td>\n",
              "      <td>...</td>\n",
              "      <td>...</td>\n",
              "    </tr>\n",
              "    <tr>\n",
              "      <th>2018-01-23</th>\n",
              "      <td>2839.130362</td>\n",
              "      <td>13559.60</td>\n",
              "      <td>24124.15</td>\n",
              "    </tr>\n",
              "    <tr>\n",
              "      <th>2018-01-24</th>\n",
              "      <td>2837.544008</td>\n",
              "      <td>13414.74</td>\n",
              "      <td>23940.78</td>\n",
              "    </tr>\n",
              "    <tr>\n",
              "      <th>2018-01-25</th>\n",
              "      <td>2839.253031</td>\n",
              "      <td>13298.36</td>\n",
              "      <td>23669.49</td>\n",
              "    </tr>\n",
              "    <tr>\n",
              "      <th>2018-01-26</th>\n",
              "      <td>2872.867839</td>\n",
              "      <td>13340.17</td>\n",
              "      <td>23631.88</td>\n",
              "    </tr>\n",
              "    <tr>\n",
              "      <th>2018-01-29</th>\n",
              "      <td>2853.528411</td>\n",
              "      <td>13324.48</td>\n",
              "      <td>23629.34</td>\n",
              "    </tr>\n",
              "  </tbody>\n",
              "</table>\n",
              "<p>6277 rows × 3 columns</p>\n",
              "</div>\n",
              "      <button class=\"colab-df-convert\" onclick=\"convertToInteractive('df-14a8e297-e7c4-401d-a1bd-e7532584de94')\"\n",
              "              title=\"Convert this dataframe to an interactive table.\"\n",
              "              style=\"display:none;\">\n",
              "        \n",
              "  <svg xmlns=\"http://www.w3.org/2000/svg\" height=\"24px\"viewBox=\"0 0 24 24\"\n",
              "       width=\"24px\">\n",
              "    <path d=\"M0 0h24v24H0V0z\" fill=\"none\"/>\n",
              "    <path d=\"M18.56 5.44l.94 2.06.94-2.06 2.06-.94-2.06-.94-.94-2.06-.94 2.06-2.06.94zm-11 1L8.5 8.5l.94-2.06 2.06-.94-2.06-.94L8.5 2.5l-.94 2.06-2.06.94zm10 10l.94 2.06.94-2.06 2.06-.94-2.06-.94-.94-2.06-.94 2.06-2.06.94z\"/><path d=\"M17.41 7.96l-1.37-1.37c-.4-.4-.92-.59-1.43-.59-.52 0-1.04.2-1.43.59L10.3 9.45l-7.72 7.72c-.78.78-.78 2.05 0 2.83L4 21.41c.39.39.9.59 1.41.59.51 0 1.02-.2 1.41-.59l7.78-7.78 2.81-2.81c.8-.78.8-2.07 0-2.86zM5.41 20L4 18.59l7.72-7.72 1.47 1.35L5.41 20z\"/>\n",
              "  </svg>\n",
              "      </button>\n",
              "      \n",
              "  <style>\n",
              "    .colab-df-container {\n",
              "      display:flex;\n",
              "      flex-wrap:wrap;\n",
              "      gap: 12px;\n",
              "    }\n",
              "\n",
              "    .colab-df-convert {\n",
              "      background-color: #E8F0FE;\n",
              "      border: none;\n",
              "      border-radius: 50%;\n",
              "      cursor: pointer;\n",
              "      display: none;\n",
              "      fill: #1967D2;\n",
              "      height: 32px;\n",
              "      padding: 0 0 0 0;\n",
              "      width: 32px;\n",
              "    }\n",
              "\n",
              "    .colab-df-convert:hover {\n",
              "      background-color: #E2EBFA;\n",
              "      box-shadow: 0px 1px 2px rgba(60, 64, 67, 0.3), 0px 1px 3px 1px rgba(60, 64, 67, 0.15);\n",
              "      fill: #174EA6;\n",
              "    }\n",
              "\n",
              "    [theme=dark] .colab-df-convert {\n",
              "      background-color: #3B4455;\n",
              "      fill: #D2E3FC;\n",
              "    }\n",
              "\n",
              "    [theme=dark] .colab-df-convert:hover {\n",
              "      background-color: #434B5C;\n",
              "      box-shadow: 0px 1px 3px 1px rgba(0, 0, 0, 0.15);\n",
              "      filter: drop-shadow(0px 1px 2px rgba(0, 0, 0, 0.3));\n",
              "      fill: #FFFFFF;\n",
              "    }\n",
              "  </style>\n",
              "\n",
              "      <script>\n",
              "        const buttonEl =\n",
              "          document.querySelector('#df-14a8e297-e7c4-401d-a1bd-e7532584de94 button.colab-df-convert');\n",
              "        buttonEl.style.display =\n",
              "          google.colab.kernel.accessAllowed ? 'block' : 'none';\n",
              "\n",
              "        async function convertToInteractive(key) {\n",
              "          const element = document.querySelector('#df-14a8e297-e7c4-401d-a1bd-e7532584de94');\n",
              "          const dataTable =\n",
              "            await google.colab.kernel.invokeFunction('convertToInteractive',\n",
              "                                                     [key], {});\n",
              "          if (!dataTable) return;\n",
              "\n",
              "          const docLinkHtml = 'Like what you see? Visit the ' +\n",
              "            '<a target=\"_blank\" href=https://colab.research.google.com/notebooks/data_table.ipynb>data table notebook</a>'\n",
              "            + ' to learn more about interactive tables.';\n",
              "          element.innerHTML = '';\n",
              "          dataTable['output_type'] = 'display_data';\n",
              "          await google.colab.output.renderOutput(dataTable, element);\n",
              "          const docLink = document.createElement('div');\n",
              "          docLink.innerHTML = docLinkHtml;\n",
              "          element.appendChild(docLink);\n",
              "        }\n",
              "      </script>\n",
              "    </div>\n",
              "  </div>\n",
              "  "
            ]
          },
          "metadata": {},
          "execution_count": 48
        }
      ]
    },
    {
      "cell_type": "code",
      "source": [
        "#Variable exogena multivariante\n",
        "model111_dfexog = ARIMA(date_.ftse, exog= dfexog, order=(1,1,1))\n",
        "result111_dfexog = model111_dfexog.fit()\n",
        "result111_dfexog.summary()  #betaY"
      ],
      "metadata": {
        "colab": {
          "base_uri": "https://localhost:8080/",
          "height": 494
        },
        "id": "V8RLwGGEJ78K",
        "outputId": "e594909c-c3a3-4746-a013-c5a6eea0b418"
      },
      "execution_count": null,
      "outputs": [
        {
          "output_type": "execute_result",
          "data": {
            "text/plain": [
              "<class 'statsmodels.iolib.summary.Summary'>\n",
              "\"\"\"\n",
              "                               SARIMAX Results                                \n",
              "==============================================================================\n",
              "Dep. Variable:                   ftse   No. Observations:                 6277\n",
              "Model:                 ARIMA(1, 1, 1)   Log Likelihood              -31409.394\n",
              "Date:                Wed, 14 Jun 2023   AIC                          62830.789\n",
              "Time:                        00:01:01   BIC                          62871.256\n",
              "Sample:                    01-07-1994   HQIC                         62844.810\n",
              "                         - 01-29-2018                                         \n",
              "Covariance Type:                  opg                                         \n",
              "==============================================================================\n",
              "                 coef    std err          z      P>|z|      [0.025      0.975]\n",
              "------------------------------------------------------------------------------\n",
              "spx            0.6076      0.028     21.718      0.000       0.553       0.662\n",
              "dax            0.4647      0.004    103.810      0.000       0.456       0.473\n",
              "nikkei         0.0247      0.002     13.474      0.000       0.021       0.028\n",
              "ar.L1          0.4628      0.081      5.726      0.000       0.304       0.621\n",
              "ma.L1         -0.5413      0.078     -6.973      0.000      -0.693      -0.389\n",
              "sigma2      1302.5763     14.287     91.175      0.000    1274.575    1330.577\n",
              "===================================================================================\n",
              "Ljung-Box (L1) (Q):                   0.20   Jarque-Bera (JB):              3934.42\n",
              "Prob(Q):                              0.66   Prob(JB):                         0.00\n",
              "Heteroskedasticity (H):               0.83   Skew:                             0.03\n",
              "Prob(H) (two-sided):                  0.00   Kurtosis:                         6.88\n",
              "===================================================================================\n",
              "\n",
              "Warnings:\n",
              "[1] Covariance matrix calculated using the outer product of gradients (complex-step).\n",
              "\"\"\""
            ],
            "text/html": [
              "<table class=\"simpletable\">\n",
              "<caption>SARIMAX Results</caption>\n",
              "<tr>\n",
              "  <th>Dep. Variable:</th>         <td>ftse</td>       <th>  No. Observations:  </th>    <td>6277</td>   \n",
              "</tr>\n",
              "<tr>\n",
              "  <th>Model:</th>            <td>ARIMA(1, 1, 1)</td>  <th>  Log Likelihood     </th> <td>-31409.394</td>\n",
              "</tr>\n",
              "<tr>\n",
              "  <th>Date:</th>            <td>Wed, 14 Jun 2023</td> <th>  AIC                </th>  <td>62830.789</td>\n",
              "</tr>\n",
              "<tr>\n",
              "  <th>Time:</th>                <td>00:01:01</td>     <th>  BIC                </th>  <td>62871.256</td>\n",
              "</tr>\n",
              "<tr>\n",
              "  <th>Sample:</th>             <td>01-07-1994</td>    <th>  HQIC               </th>  <td>62844.810</td>\n",
              "</tr>\n",
              "<tr>\n",
              "  <th></th>                   <td>- 01-29-2018</td>   <th>                     </th>      <td> </td>    \n",
              "</tr>\n",
              "<tr>\n",
              "  <th>Covariance Type:</th>        <td>opg</td>       <th>                     </th>      <td> </td>    \n",
              "</tr>\n",
              "</table>\n",
              "<table class=\"simpletable\">\n",
              "<tr>\n",
              "     <td></td>       <th>coef</th>     <th>std err</th>      <th>z</th>      <th>P>|z|</th>  <th>[0.025</th>    <th>0.975]</th>  \n",
              "</tr>\n",
              "<tr>\n",
              "  <th>spx</th>    <td>    0.6076</td> <td>    0.028</td> <td>   21.718</td> <td> 0.000</td> <td>    0.553</td> <td>    0.662</td>\n",
              "</tr>\n",
              "<tr>\n",
              "  <th>dax</th>    <td>    0.4647</td> <td>    0.004</td> <td>  103.810</td> <td> 0.000</td> <td>    0.456</td> <td>    0.473</td>\n",
              "</tr>\n",
              "<tr>\n",
              "  <th>nikkei</th> <td>    0.0247</td> <td>    0.002</td> <td>   13.474</td> <td> 0.000</td> <td>    0.021</td> <td>    0.028</td>\n",
              "</tr>\n",
              "<tr>\n",
              "  <th>ar.L1</th>  <td>    0.4628</td> <td>    0.081</td> <td>    5.726</td> <td> 0.000</td> <td>    0.304</td> <td>    0.621</td>\n",
              "</tr>\n",
              "<tr>\n",
              "  <th>ma.L1</th>  <td>   -0.5413</td> <td>    0.078</td> <td>   -6.973</td> <td> 0.000</td> <td>   -0.693</td> <td>   -0.389</td>\n",
              "</tr>\n",
              "<tr>\n",
              "  <th>sigma2</th> <td> 1302.5763</td> <td>   14.287</td> <td>   91.175</td> <td> 0.000</td> <td> 1274.575</td> <td> 1330.577</td>\n",
              "</tr>\n",
              "</table>\n",
              "<table class=\"simpletable\">\n",
              "<tr>\n",
              "  <th>Ljung-Box (L1) (Q):</th>     <td>0.20</td> <th>  Jarque-Bera (JB):  </th> <td>3934.42</td>\n",
              "</tr>\n",
              "<tr>\n",
              "  <th>Prob(Q):</th>                <td>0.66</td> <th>  Prob(JB):          </th>  <td>0.00</td>  \n",
              "</tr>\n",
              "<tr>\n",
              "  <th>Heteroskedasticity (H):</th> <td>0.83</td> <th>  Skew:              </th>  <td>0.03</td>  \n",
              "</tr>\n",
              "<tr>\n",
              "  <th>Prob(H) (two-sided):</th>    <td>0.00</td> <th>  Kurtosis:          </th>  <td>6.88</td>  \n",
              "</tr>\n",
              "</table><br/><br/>Warnings:<br/>[1] Covariance matrix calculated using the outer product of gradients (complex-step)."
            ]
          },
          "metadata": {},
          "execution_count": 56
        }
      ]
    },
    {
      "cell_type": "code",
      "source": [
        "model111_Xspx = ARIMA(df.market_value, exog= df.spx, order=(1,1,1))\n",
        "result11_Xspx = model111_Xspx.fit()\n",
        "result11_Xspx.summary()  #betaY"
      ],
      "metadata": {
        "colab": {
          "base_uri": "https://localhost:8080/",
          "height": 452
        },
        "id": "yfz654q0BwYt",
        "outputId": "fe6b9cc4-10ef-412c-c9da-c4231dd571b7"
      },
      "execution_count": null,
      "outputs": [
        {
          "output_type": "execute_result",
          "data": {
            "text/plain": [
              "<class 'statsmodels.iolib.summary.Summary'>\n",
              "\"\"\"\n",
              "                               SARIMAX Results                                \n",
              "==============================================================================\n",
              "Dep. Variable:           market_value   No. Observations:                 5021\n",
              "Model:                 ARIMA(1, 1, 1)   Log Likelihood              -26693.392\n",
              "Date:                Tue, 13 Jun 2023   AIC                          53394.784\n",
              "Time:                        23:24:59   BIC                          53420.869\n",
              "Sample:                    01-07-1994   HQIC                         53403.925\n",
              "                         - 04-05-2013                                         \n",
              "Covariance Type:                  opg                                         \n",
              "==============================================================================\n",
              "                 coef    std err          z      P>|z|      [0.025      0.975]\n",
              "------------------------------------------------------------------------------\n",
              "spx            2.6928      0.035     76.407      0.000       2.624       2.762\n",
              "ar.L1          0.2571      0.029      8.812      0.000       0.200       0.314\n",
              "ma.L1         -0.5460      0.025    -21.791      0.000      -0.595      -0.497\n",
              "sigma2      2433.0771     27.350     88.961      0.000    2379.472    2486.682\n",
              "===================================================================================\n",
              "Ljung-Box (L1) (Q):                   0.24   Jarque-Bera (JB):              4423.90\n",
              "Prob(Q):                              0.62   Prob(JB):                         0.00\n",
              "Heteroskedasticity (H):               1.25   Skew:                            -0.57\n",
              "Prob(H) (two-sided):                  0.00   Kurtosis:                         7.45\n",
              "===================================================================================\n",
              "\n",
              "Warnings:\n",
              "[1] Covariance matrix calculated using the outer product of gradients (complex-step).\n",
              "\"\"\""
            ],
            "text/html": [
              "<table class=\"simpletable\">\n",
              "<caption>SARIMAX Results</caption>\n",
              "<tr>\n",
              "  <th>Dep. Variable:</th>     <td>market_value</td>   <th>  No. Observations:  </th>    <td>5021</td>   \n",
              "</tr>\n",
              "<tr>\n",
              "  <th>Model:</th>            <td>ARIMA(1, 1, 1)</td>  <th>  Log Likelihood     </th> <td>-26693.392</td>\n",
              "</tr>\n",
              "<tr>\n",
              "  <th>Date:</th>            <td>Tue, 13 Jun 2023</td> <th>  AIC                </th>  <td>53394.784</td>\n",
              "</tr>\n",
              "<tr>\n",
              "  <th>Time:</th>                <td>23:24:59</td>     <th>  BIC                </th>  <td>53420.869</td>\n",
              "</tr>\n",
              "<tr>\n",
              "  <th>Sample:</th>             <td>01-07-1994</td>    <th>  HQIC               </th>  <td>53403.925</td>\n",
              "</tr>\n",
              "<tr>\n",
              "  <th></th>                   <td>- 04-05-2013</td>   <th>                     </th>      <td> </td>    \n",
              "</tr>\n",
              "<tr>\n",
              "  <th>Covariance Type:</th>        <td>opg</td>       <th>                     </th>      <td> </td>    \n",
              "</tr>\n",
              "</table>\n",
              "<table class=\"simpletable\">\n",
              "<tr>\n",
              "     <td></td>       <th>coef</th>     <th>std err</th>      <th>z</th>      <th>P>|z|</th>  <th>[0.025</th>    <th>0.975]</th>  \n",
              "</tr>\n",
              "<tr>\n",
              "  <th>spx</th>    <td>    2.6928</td> <td>    0.035</td> <td>   76.407</td> <td> 0.000</td> <td>    2.624</td> <td>    2.762</td>\n",
              "</tr>\n",
              "<tr>\n",
              "  <th>ar.L1</th>  <td>    0.2571</td> <td>    0.029</td> <td>    8.812</td> <td> 0.000</td> <td>    0.200</td> <td>    0.314</td>\n",
              "</tr>\n",
              "<tr>\n",
              "  <th>ma.L1</th>  <td>   -0.5460</td> <td>    0.025</td> <td>  -21.791</td> <td> 0.000</td> <td>   -0.595</td> <td>   -0.497</td>\n",
              "</tr>\n",
              "<tr>\n",
              "  <th>sigma2</th> <td> 2433.0771</td> <td>   27.350</td> <td>   88.961</td> <td> 0.000</td> <td> 2379.472</td> <td> 2486.682</td>\n",
              "</tr>\n",
              "</table>\n",
              "<table class=\"simpletable\">\n",
              "<tr>\n",
              "  <th>Ljung-Box (L1) (Q):</th>     <td>0.24</td> <th>  Jarque-Bera (JB):  </th> <td>4423.90</td>\n",
              "</tr>\n",
              "<tr>\n",
              "  <th>Prob(Q):</th>                <td>0.62</td> <th>  Prob(JB):          </th>  <td>0.00</td>  \n",
              "</tr>\n",
              "<tr>\n",
              "  <th>Heteroskedasticity (H):</th> <td>1.25</td> <th>  Skew:              </th>  <td>-0.57</td> \n",
              "</tr>\n",
              "<tr>\n",
              "  <th>Prob(H) (two-sided):</th>    <td>0.00</td> <th>  Kurtosis:          </th>  <td>7.45</td>  \n",
              "</tr>\n",
              "</table><br/><br/>Warnings:<br/>[1] Covariance matrix calculated using the outer product of gradients (complex-step)."
            ]
          },
          "metadata": {},
          "execution_count": 20
        }
      ]
    },
    {
      "cell_type": "code",
      "source": [
        "# Compara los resultados con el modelo de la clase anterior que sólo contiene como variable exógena los precios de SP500.\n",
        "# Obtén los valores de la verosimilitud de ambos, el AIC y mira la significación de los coeficientes estimados. ¿A qué conclusión llegas?\n",
        "\n",
        "print(\"\\n ARIMAXspx(1,1,1): \\tLL = \", result11_Xspx.llf, \"\\tAIC = \", result11_Xspx.aic)\n",
        "print(\"\\n ARIMAMULTI(1,1,1): \\tLL = \", result111_dfexog.llf, \"\\tAIC = \", result111_dfexog.aic)\n",
        "print(\"\\nLLR test p-value = \" + str (LLR_test (result11_Xspx, result111_dfexog)))\n",
        "print(\"\\nLLR test p-value = \" + str (LLR_test (result111_dfexog, result11_Xspx)))\n",
        "\n",
        "#Es  mejor modelo el modelo que solo tiene en cuenta una variable exogena al multivariante, ya que tiene un menor AIC y un LL mayor.\n",
        "#Además comparando el p-valor de verosilimitud se prefiere el modelo Xspx"
      ],
      "metadata": {
        "colab": {
          "base_uri": "https://localhost:8080/"
        },
        "id": "CSvCgN-XNTqB",
        "outputId": "7aad5a26-bf58-4f46-b965-5fe6ae8911a9"
      },
      "execution_count": null,
      "outputs": [
        {
          "output_type": "stream",
          "name": "stdout",
          "text": [
            "\n",
            " ARIMAXspx(1,1,1): \tLL =  -26693.392125249866 \tAIC =  53394.78425049973\n",
            "\n",
            " ARIMAMULTI(1,1,1): \tLL =  -31409.394318007508 \tAIC =  62830.788636015015\n",
            "\n",
            "LLR test p-value = 1.0\n",
            "\n",
            "LLR test p-value = 0.0\n"
          ]
        }
      ]
    },
    {
      "cell_type": "markdown",
      "source": [
        "#SARIMAX"
      ],
      "metadata": {
        "id": "jJQbCBVyc7Q-"
      }
    },
    {
      "cell_type": "code",
      "source": [
        "from statsmodels.tsa.statespace.sarimax import SARIMAX"
      ],
      "metadata": {
        "id": "UVEZnRSCc9uC"
      },
      "execution_count": 62,
      "outputs": []
    },
    {
      "cell_type": "code",
      "source": [
        "model_sarimax = SARIMAX(df.market_value, exog = df.spx, order= (1,0,1), seasonal_order =(2,0,1,5))\n",
        "results_sarimax = model_sarimax.fit()\n",
        "results_sarimax.summary()"
      ],
      "metadata": {
        "colab": {
          "base_uri": "https://localhost:8080/",
          "height": 516
        },
        "id": "VdG8V9ADlvc0",
        "outputId": "547f8ecb-dd83-4140-c08a-bd4423f35300"
      },
      "execution_count": 63,
      "outputs": [
        {
          "output_type": "execute_result",
          "data": {
            "text/plain": [
              "<class 'statsmodels.iolib.summary.Summary'>\n",
              "\"\"\"\n",
              "                                     SARIMAX Results                                     \n",
              "=========================================================================================\n",
              "Dep. Variable:                      market_value   No. Observations:                 5021\n",
              "Model:             SARIMAX(1, 0, 1)x(2, 0, 1, 5)   Log Likelihood              -26712.780\n",
              "Date:                           Wed, 14 Jun 2023   AIC                          53439.560\n",
              "Time:                                   01:50:51   BIC                          53485.210\n",
              "Sample:                               01-07-1994   HQIC                         53455.556\n",
              "                                    - 04-05-2013                                         \n",
              "Covariance Type:                             opg                                         \n",
              "==============================================================================\n",
              "                 coef    std err          z      P>|z|      [0.025      0.975]\n",
              "------------------------------------------------------------------------------\n",
              "spx            2.7037      0.035     76.430      0.000       2.634       2.773\n",
              "ar.L1          0.9998      0.001   1913.710      0.000       0.999       1.001\n",
              "ma.L1         -0.3101      0.010    -32.622      0.000      -0.329      -0.291\n",
              "ar.S.L5        0.9652      0.011     90.117      0.000       0.944       0.986\n",
              "ar.S.L10       0.0344      0.010      3.445      0.001       0.015       0.054\n",
              "ma.S.L5       -0.9985      0.005   -187.184      0.000      -1.009      -0.988\n",
              "sigma2      2442.5692     28.460     85.826      0.000    2386.789    2498.349\n",
              "===================================================================================\n",
              "Ljung-Box (L1) (Q):                   1.62   Jarque-Bera (JB):              4212.72\n",
              "Prob(Q):                              0.20   Prob(JB):                         0.00\n",
              "Heteroskedasticity (H):               1.24   Skew:                            -0.52\n",
              "Prob(H) (two-sided):                  0.00   Kurtosis:                         7.37\n",
              "===================================================================================\n",
              "\n",
              "Warnings:\n",
              "[1] Covariance matrix calculated using the outer product of gradients (complex-step).\n",
              "\"\"\""
            ],
            "text/html": [
              "<table class=\"simpletable\">\n",
              "<caption>SARIMAX Results</caption>\n",
              "<tr>\n",
              "  <th>Dep. Variable:</th>           <td>market_value</td>          <th>  No. Observations:  </th>    <td>5021</td>   \n",
              "</tr>\n",
              "<tr>\n",
              "  <th>Model:</th>           <td>SARIMAX(1, 0, 1)x(2, 0, 1, 5)</td> <th>  Log Likelihood     </th> <td>-26712.780</td>\n",
              "</tr>\n",
              "<tr>\n",
              "  <th>Date:</th>                  <td>Wed, 14 Jun 2023</td>        <th>  AIC                </th>  <td>53439.560</td>\n",
              "</tr>\n",
              "<tr>\n",
              "  <th>Time:</th>                      <td>01:50:51</td>            <th>  BIC                </th>  <td>53485.210</td>\n",
              "</tr>\n",
              "<tr>\n",
              "  <th>Sample:</th>                   <td>01-07-1994</td>           <th>  HQIC               </th>  <td>53455.556</td>\n",
              "</tr>\n",
              "<tr>\n",
              "  <th></th>                         <td>- 04-05-2013</td>          <th>                     </th>      <td> </td>    \n",
              "</tr>\n",
              "<tr>\n",
              "  <th>Covariance Type:</th>              <td>opg</td>              <th>                     </th>      <td> </td>    \n",
              "</tr>\n",
              "</table>\n",
              "<table class=\"simpletable\">\n",
              "<tr>\n",
              "      <td></td>        <th>coef</th>     <th>std err</th>      <th>z</th>      <th>P>|z|</th>  <th>[0.025</th>    <th>0.975]</th>  \n",
              "</tr>\n",
              "<tr>\n",
              "  <th>spx</th>      <td>    2.7037</td> <td>    0.035</td> <td>   76.430</td> <td> 0.000</td> <td>    2.634</td> <td>    2.773</td>\n",
              "</tr>\n",
              "<tr>\n",
              "  <th>ar.L1</th>    <td>    0.9998</td> <td>    0.001</td> <td> 1913.710</td> <td> 0.000</td> <td>    0.999</td> <td>    1.001</td>\n",
              "</tr>\n",
              "<tr>\n",
              "  <th>ma.L1</th>    <td>   -0.3101</td> <td>    0.010</td> <td>  -32.622</td> <td> 0.000</td> <td>   -0.329</td> <td>   -0.291</td>\n",
              "</tr>\n",
              "<tr>\n",
              "  <th>ar.S.L5</th>  <td>    0.9652</td> <td>    0.011</td> <td>   90.117</td> <td> 0.000</td> <td>    0.944</td> <td>    0.986</td>\n",
              "</tr>\n",
              "<tr>\n",
              "  <th>ar.S.L10</th> <td>    0.0344</td> <td>    0.010</td> <td>    3.445</td> <td> 0.001</td> <td>    0.015</td> <td>    0.054</td>\n",
              "</tr>\n",
              "<tr>\n",
              "  <th>ma.S.L5</th>  <td>   -0.9985</td> <td>    0.005</td> <td> -187.184</td> <td> 0.000</td> <td>   -1.009</td> <td>   -0.988</td>\n",
              "</tr>\n",
              "<tr>\n",
              "  <th>sigma2</th>   <td> 2442.5692</td> <td>   28.460</td> <td>   85.826</td> <td> 0.000</td> <td> 2386.789</td> <td> 2498.349</td>\n",
              "</tr>\n",
              "</table>\n",
              "<table class=\"simpletable\">\n",
              "<tr>\n",
              "  <th>Ljung-Box (L1) (Q):</th>     <td>1.62</td> <th>  Jarque-Bera (JB):  </th> <td>4212.72</td>\n",
              "</tr>\n",
              "<tr>\n",
              "  <th>Prob(Q):</th>                <td>0.20</td> <th>  Prob(JB):          </th>  <td>0.00</td>  \n",
              "</tr>\n",
              "<tr>\n",
              "  <th>Heteroskedasticity (H):</th> <td>1.24</td> <th>  Skew:              </th>  <td>-0.52</td> \n",
              "</tr>\n",
              "<tr>\n",
              "  <th>Prob(H) (two-sided):</th>    <td>0.00</td> <th>  Kurtosis:          </th>  <td>7.37</td>  \n",
              "</tr>\n",
              "</table><br/><br/>Warnings:<br/>[1] Covariance matrix calculated using the outer product of gradients (complex-step)."
            ]
          },
          "metadata": {},
          "execution_count": 63
        }
      ]
    }
  ]
}