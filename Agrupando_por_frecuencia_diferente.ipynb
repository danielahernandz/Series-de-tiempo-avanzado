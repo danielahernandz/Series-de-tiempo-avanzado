{
  "nbformat": 4,
  "nbformat_minor": 0,
  "metadata": {
    "kernelspec": {
      "name": "python3",
      "display_name": "Python 3"
    },
    "toc": {
      "base_numbering": 1,
      "nav_menu": {},
      "number_sections": true,
      "sideBar": true,
      "skip_h1_title": false,
      "title_cell": "Table of Contents",
      "title_sidebar": "Contents",
      "toc_cell": false,
      "toc_position": {},
      "toc_section_display": true,
      "toc_window_display": true
    },
    "colab": {
      "name": "Agrupando por frecuencia diferente.ipynb",
      "provenance": [],
      "collapsed_sections": []
    }
  },
  "cells": [
    {
      "cell_type": "markdown",
      "metadata": {
        "id": "jZwXZb44SZvq"
      },
      "source": [
        "# Importar librerías"
      ]
    },
    {
      "cell_type": "code",
      "metadata": {
        "ExecuteTime": {
          "end_time": "2020-09-12T08:52:02.699664Z",
          "start_time": "2020-09-12T08:51:48.716361Z"
        },
        "id": "05xpZqh-SZvr"
      },
      "source": [
        "import pandas as pd \n",
        "# set max columns to display\n",
        "pd.set_option('display.max_columns', 50)"
      ],
      "execution_count": 3,
      "outputs": []
    },
    {
      "cell_type": "markdown",
      "metadata": {
        "id": "5PGKjhaaSZvv"
      },
      "source": [
        "# Dataset \n",
        "\n",
        "El dataset que vamos a usar proviene de: <a href=\"https://data.worldbank.org/\"> World Bank Open data </a> y trata sobre datos de precios \"crowd-source\" obtenidos de 15 países diferentes. Para más detalles sobre los datos: <a href=\"https://datacatalog.worldbank.org/dataset/crowdsourced-price-data-collection-pilot\"> Crowdsourced Price Data Collection Pilot </a>. Para este ejercicio en particular, vamos a ver los datos de Argentina. "
      ]
    },
    {
      "cell_type": "code",
      "metadata": {
        "ExecuteTime": {
          "end_time": "2020-09-12T08:52:06.727947Z",
          "start_time": "2020-09-12T08:52:06.338700Z"
        },
        "id": "sVMwZg47SZvv"
      },
      "source": [
        "# importando los datos\n",
        "initial_data = pd.read_csv('arg-crowdsourcedpdcpilot02_final_obs_all_clean.csv', parse_dates=['created_at'])"
      ],
      "execution_count": 4,
      "outputs": []
    },
    {
      "cell_type": "code",
      "metadata": {
        "ExecuteTime": {
          "end_time": "2020-09-12T08:52:07.587804Z",
          "start_time": "2020-09-12T08:52:07.544073Z"
        },
        "scrolled": true,
        "id": "tuztkmgXSZvy",
        "colab": {
          "base_uri": "https://localhost:8080/",
          "height": 583
        },
        "outputId": "71d37c9c-e149-4ffc-d079-65977d8e6326"
      },
      "source": [
        "initial_data.head(5)"
      ],
      "execution_count": 5,
      "outputs": [
        {
          "output_type": "execute_result",
          "data": {
            "text/html": [
              "\n",
              "  <div id=\"df-41dea083-d037-4a52-bdae-dcb6a4b4cd1d\">\n",
              "    <div class=\"colab-df-container\">\n",
              "      <div>\n",
              "<style scoped>\n",
              "    .dataframe tbody tr th:only-of-type {\n",
              "        vertical-align: middle;\n",
              "    }\n",
              "\n",
              "    .dataframe tbody tr th {\n",
              "        vertical-align: top;\n",
              "    }\n",
              "\n",
              "    .dataframe thead th {\n",
              "        text-align: right;\n",
              "    }\n",
              "</style>\n",
              "<table border=\"1\" class=\"dataframe\">\n",
              "  <thead>\n",
              "    <tr style=\"text-align: right;\">\n",
              "      <th></th>\n",
              "      <th>item_name</th>\n",
              "      <th>item_code</th>\n",
              "      <th>bh_name</th>\n",
              "      <th>bh_code</th>\n",
              "      <th>created_at</th>\n",
              "      <th>brand</th>\n",
              "      <th>created_fr_lat</th>\n",
              "      <th>created_fr_lon</th>\n",
              "      <th>obs_uid</th>\n",
              "      <th>size</th>\n",
              "      <th>quantity</th>\n",
              "      <th>total_size</th>\n",
              "      <th>converted_total_size</th>\n",
              "      <th>normalized_total_size</th>\n",
              "      <th>price</th>\n",
              "      <th>normalized_price</th>\n",
              "      <th>fx_usd</th>\n",
              "      <th>fx_local</th>\n",
              "      <th>normalized_price_usd</th>\n",
              "      <th>normalized_price_local</th>\n",
              "      <th>currency</th>\n",
              "      <th>units</th>\n",
              "      <th>reference_unit_of_measurement</th>\n",
              "      <th>reference_quantity</th>\n",
              "      <th>place_uuid</th>\n",
              "      <th>place_name</th>\n",
              "      <th>place_lat</th>\n",
              "      <th>place_long</th>\n",
              "      <th>store_type</th>\n",
              "      <th>country</th>\n",
              "      <th>l0</th>\n",
              "      <th>l1</th>\n",
              "      <th>l2</th>\n",
              "      <th>l0_geo</th>\n",
              "      <th>l1_geo</th>\n",
              "      <th>l2_geo</th>\n",
              "      <th>l3_geo</th>\n",
              "      <th>pop_density</th>\n",
              "      <th>dist_l2</th>\n",
              "      <th>city_radius</th>\n",
              "      <th>metadata_json</th>\n",
              "    </tr>\n",
              "  </thead>\n",
              "  <tbody>\n",
              "    <tr>\n",
              "      <th>0</th>\n",
              "      <td>Men's haircut, barber shop</td>\n",
              "      <td>111211101</td>\n",
              "      <td>Hairdressing salons and personal grooming esta...</td>\n",
              "      <td>1112111.0</td>\n",
              "      <td>2016-06-06 14:57:57.493</td>\n",
              "      <td>NaN</td>\n",
              "      <td>-34.612083</td>\n",
              "      <td>-58.424259</td>\n",
              "      <td>0003134e-cb5d-4a81-bd25-770d67c4759b</td>\n",
              "      <td>1.0</td>\n",
              "      <td>1</td>\n",
              "      <td>1.0</td>\n",
              "      <td>1.0</td>\n",
              "      <td>1.0</td>\n",
              "      <td>50.00</td>\n",
              "      <td>50.000</td>\n",
              "      <td>13.938950</td>\n",
              "      <td>13.938950</td>\n",
              "      <td>3.587071</td>\n",
              "      <td>50.000</td>\n",
              "      <td>ARS</td>\n",
              "      <td>piece(s)</td>\n",
              "      <td>Service</td>\n",
              "      <td>1.0</td>\n",
              "      <td>0a9723ea-dcdd-478d-8928-4b019ac6b2d5</td>\n",
              "      <td>peluqueria gaacon 124</td>\n",
              "      <td>-34.610687</td>\n",
              "      <td>-58.424356</td>\n",
              "      <td>private_service_provider</td>\n",
              "      <td>AR</td>\n",
              "      <td>Argentina</td>\n",
              "      <td>Buenos Aires</td>\n",
              "      <td>Buenos Aires</td>\n",
              "      <td>Argentina</td>\n",
              "      <td>Ciudad de Buenos Aires</td>\n",
              "      <td>Distrito Federal</td>\n",
              "      <td>Buenos Aires</td>\n",
              "      <td>323.583880</td>\n",
              "      <td>2.397569</td>\n",
              "      <td>50</td>\n",
              "      <td>{ \"price_includes_charges_value\" : \"yes\" }</td>\n",
              "    </tr>\n",
              "    <tr>\n",
              "      <th>1</th>\n",
              "      <td>Sardines, tinned, with skin, in vegetable oil,...</td>\n",
              "      <td>110113201</td>\n",
              "      <td>Preserved or processed fish and seafood</td>\n",
              "      <td>1101132.0</td>\n",
              "      <td>2016-04-19 17:47:57.557</td>\n",
              "      <td>GV</td>\n",
              "      <td>-31.466946</td>\n",
              "      <td>-64.163376</td>\n",
              "      <td>0006d339-1ef4-4d27-9f99-aac6773c4633</td>\n",
              "      <td>160.0</td>\n",
              "      <td>1</td>\n",
              "      <td>160.0</td>\n",
              "      <td>160.0</td>\n",
              "      <td>0.8</td>\n",
              "      <td>29.30</td>\n",
              "      <td>36.625</td>\n",
              "      <td>14.163950</td>\n",
              "      <td>14.163950</td>\n",
              "      <td>2.585790</td>\n",
              "      <td>36.625</td>\n",
              "      <td>ARS</td>\n",
              "      <td>g</td>\n",
              "      <td>Gram</td>\n",
              "      <td>200.0</td>\n",
              "      <td>7db0b4f4-eb09-4f0c-bbb5-c5d052064f49</td>\n",
              "      <td>walmart hoggins</td>\n",
              "      <td>-31.464056</td>\n",
              "      <td>-64.163222</td>\n",
              "      <td>small_medium_shop</td>\n",
              "      <td>AR</td>\n",
              "      <td>Argentina</td>\n",
              "      <td>Córdoba</td>\n",
              "      <td>Cordoba</td>\n",
              "      <td>Argentina</td>\n",
              "      <td>Córdoba</td>\n",
              "      <td>Capital</td>\n",
              "      <td>Córdoba</td>\n",
              "      <td>40.096850</td>\n",
              "      <td>6.264624</td>\n",
              "      <td>20</td>\n",
              "      <td>{ \"tin_can_packaging_value\" : \"yes\", \"sardines...</td>\n",
              "    </tr>\n",
              "    <tr>\n",
              "      <th>2</th>\n",
              "      <td>Broken rice, 25%, BNR</td>\n",
              "      <td>110111106</td>\n",
              "      <td>Rice</td>\n",
              "      <td>1101111.0</td>\n",
              "      <td>2016-03-08 18:43:48.048</td>\n",
              "      <td>jumbo</td>\n",
              "      <td>-34.590607</td>\n",
              "      <td>-58.408207</td>\n",
              "      <td>0008d632-8fee-4957-972a-ceb1307e06b9</td>\n",
              "      <td>1.0</td>\n",
              "      <td>1</td>\n",
              "      <td>1.0</td>\n",
              "      <td>1.0</td>\n",
              "      <td>1.0</td>\n",
              "      <td>12.49</td>\n",
              "      <td>12.490</td>\n",
              "      <td>15.446950</td>\n",
              "      <td>15.446950</td>\n",
              "      <td>0.808574</td>\n",
              "      <td>12.490</td>\n",
              "      <td>ARS</td>\n",
              "      <td>kg</td>\n",
              "      <td>Kilogram</td>\n",
              "      <td>1.0</td>\n",
              "      <td>61a47c51-c47c-4f2a-8f6b-914ff938218c</td>\n",
              "      <td>DISCO Av. Santa Fe 3047 Palermo</td>\n",
              "      <td>-34.590394</td>\n",
              "      <td>-58.408558</td>\n",
              "      <td>NaN</td>\n",
              "      <td>AR</td>\n",
              "      <td>Argentina</td>\n",
              "      <td>Buenos Aires</td>\n",
              "      <td>Buenos Aires</td>\n",
              "      <td>Argentina</td>\n",
              "      <td>Ciudad de Buenos Aires</td>\n",
              "      <td>Distrito Federal</td>\n",
              "      <td>Buenos Aires</td>\n",
              "      <td>321.490285</td>\n",
              "      <td>4.491375</td>\n",
              "      <td>50</td>\n",
              "      <td>{ \"packaged_unpackaged_value\" : \"prepacked\", \"...</td>\n",
              "    </tr>\n",
              "    <tr>\n",
              "      <th>3</th>\n",
              "      <td>Men's shirt, WKB-M</td>\n",
              "      <td>110312103</td>\n",
              "      <td>Garments</td>\n",
              "      <td>1103121.0</td>\n",
              "      <td>2016-04-10 17:33:59.277</td>\n",
              "      <td>george</td>\n",
              "      <td>-31.395527</td>\n",
              "      <td>-64.259949</td>\n",
              "      <td>0008ec67-df92-4d7a-a859-b9d0bb95cacb</td>\n",
              "      <td>1.0</td>\n",
              "      <td>1</td>\n",
              "      <td>1.0</td>\n",
              "      <td>1.0</td>\n",
              "      <td>1.0</td>\n",
              "      <td>349.00</td>\n",
              "      <td>349.000</td>\n",
              "      <td>14.461316</td>\n",
              "      <td>14.461316</td>\n",
              "      <td>24.133350</td>\n",
              "      <td>349.000</td>\n",
              "      <td>ARS</td>\n",
              "      <td>piece(s)</td>\n",
              "      <td>Piece</td>\n",
              "      <td>1.0</td>\n",
              "      <td>6a9f0ff13a333d85609d738923db6c49364c0e38</td>\n",
              "      <td>Walmart Córdoba Oeste Colón</td>\n",
              "      <td>-31.394419</td>\n",
              "      <td>-64.260132</td>\n",
              "      <td>small_medium_shop</td>\n",
              "      <td>AR</td>\n",
              "      <td>Argentina</td>\n",
              "      <td>Córdoba</td>\n",
              "      <td>Cordoba</td>\n",
              "      <td>Argentina</td>\n",
              "      <td>Córdoba</td>\n",
              "      <td>Capital</td>\n",
              "      <td>Córdoba</td>\n",
              "      <td>36.855019</td>\n",
              "      <td>6.533218</td>\n",
              "      <td>20</td>\n",
              "      <td>{ \"brand_value\" : \"george\", \"adult_child_value...</td>\n",
              "    </tr>\n",
              "    <tr>\n",
              "      <th>4</th>\n",
              "      <td>Vacuum cleaner, WKB-M</td>\n",
              "      <td>110531111</td>\n",
              "      <td>Major household appliances whether electric or...</td>\n",
              "      <td>1105311.0</td>\n",
              "      <td>2016-03-24 21:36:48.824</td>\n",
              "      <td>philips</td>\n",
              "      <td>-34.674744</td>\n",
              "      <td>-58.367367</td>\n",
              "      <td>0008f63c-11f6-4f3b-9277-77a11288f361</td>\n",
              "      <td>1.0</td>\n",
              "      <td>1</td>\n",
              "      <td>1.0</td>\n",
              "      <td>1.0</td>\n",
              "      <td>1.0</td>\n",
              "      <td>1799.00</td>\n",
              "      <td>1799.000</td>\n",
              "      <td>14.502950</td>\n",
              "      <td>14.502950</td>\n",
              "      <td>124.043729</td>\n",
              "      <td>1799.000</td>\n",
              "      <td>ARS</td>\n",
              "      <td>piece(s)</td>\n",
              "      <td>Piece</td>\n",
              "      <td>1.0</td>\n",
              "      <td>a09e2842d54603845a7d84859854729151e485cc</td>\n",
              "      <td>Walmart Avellaneda</td>\n",
              "      <td>-34.676401</td>\n",
              "      <td>-58.365980</td>\n",
              "      <td>small_medium_shop</td>\n",
              "      <td>AR</td>\n",
              "      <td>Argentina</td>\n",
              "      <td>Buenos Aires</td>\n",
              "      <td>Buenos Aires</td>\n",
              "      <td>Argentina</td>\n",
              "      <td>Buenos Aires</td>\n",
              "      <td>Avellaneda</td>\n",
              "      <td>Crucecita</td>\n",
              "      <td>118.042055</td>\n",
              "      <td>10.591399</td>\n",
              "      <td>50</td>\n",
              "      <td>{ \"vaccuum_features_value\" : \"[automatic_cord_...</td>\n",
              "    </tr>\n",
              "  </tbody>\n",
              "</table>\n",
              "</div>\n",
              "      <button class=\"colab-df-convert\" onclick=\"convertToInteractive('df-41dea083-d037-4a52-bdae-dcb6a4b4cd1d')\"\n",
              "              title=\"Convert this dataframe to an interactive table.\"\n",
              "              style=\"display:none;\">\n",
              "        \n",
              "  <svg xmlns=\"http://www.w3.org/2000/svg\" height=\"24px\"viewBox=\"0 0 24 24\"\n",
              "       width=\"24px\">\n",
              "    <path d=\"M0 0h24v24H0V0z\" fill=\"none\"/>\n",
              "    <path d=\"M18.56 5.44l.94 2.06.94-2.06 2.06-.94-2.06-.94-.94-2.06-.94 2.06-2.06.94zm-11 1L8.5 8.5l.94-2.06 2.06-.94-2.06-.94L8.5 2.5l-.94 2.06-2.06.94zm10 10l.94 2.06.94-2.06 2.06-.94-2.06-.94-.94-2.06-.94 2.06-2.06.94z\"/><path d=\"M17.41 7.96l-1.37-1.37c-.4-.4-.92-.59-1.43-.59-.52 0-1.04.2-1.43.59L10.3 9.45l-7.72 7.72c-.78.78-.78 2.05 0 2.83L4 21.41c.39.39.9.59 1.41.59.51 0 1.02-.2 1.41-.59l7.78-7.78 2.81-2.81c.8-.78.8-2.07 0-2.86zM5.41 20L4 18.59l7.72-7.72 1.47 1.35L5.41 20z\"/>\n",
              "  </svg>\n",
              "      </button>\n",
              "      \n",
              "  <style>\n",
              "    .colab-df-container {\n",
              "      display:flex;\n",
              "      flex-wrap:wrap;\n",
              "      gap: 12px;\n",
              "    }\n",
              "\n",
              "    .colab-df-convert {\n",
              "      background-color: #E8F0FE;\n",
              "      border: none;\n",
              "      border-radius: 50%;\n",
              "      cursor: pointer;\n",
              "      display: none;\n",
              "      fill: #1967D2;\n",
              "      height: 32px;\n",
              "      padding: 0 0 0 0;\n",
              "      width: 32px;\n",
              "    }\n",
              "\n",
              "    .colab-df-convert:hover {\n",
              "      background-color: #E2EBFA;\n",
              "      box-shadow: 0px 1px 2px rgba(60, 64, 67, 0.3), 0px 1px 3px 1px rgba(60, 64, 67, 0.15);\n",
              "      fill: #174EA6;\n",
              "    }\n",
              "\n",
              "    [theme=dark] .colab-df-convert {\n",
              "      background-color: #3B4455;\n",
              "      fill: #D2E3FC;\n",
              "    }\n",
              "\n",
              "    [theme=dark] .colab-df-convert:hover {\n",
              "      background-color: #434B5C;\n",
              "      box-shadow: 0px 1px 3px 1px rgba(0, 0, 0, 0.15);\n",
              "      filter: drop-shadow(0px 1px 2px rgba(0, 0, 0, 0.3));\n",
              "      fill: #FFFFFF;\n",
              "    }\n",
              "  </style>\n",
              "\n",
              "      <script>\n",
              "        const buttonEl =\n",
              "          document.querySelector('#df-41dea083-d037-4a52-bdae-dcb6a4b4cd1d button.colab-df-convert');\n",
              "        buttonEl.style.display =\n",
              "          google.colab.kernel.accessAllowed ? 'block' : 'none';\n",
              "\n",
              "        async function convertToInteractive(key) {\n",
              "          const element = document.querySelector('#df-41dea083-d037-4a52-bdae-dcb6a4b4cd1d');\n",
              "          const dataTable =\n",
              "            await google.colab.kernel.invokeFunction('convertToInteractive',\n",
              "                                                     [key], {});\n",
              "          if (!dataTable) return;\n",
              "\n",
              "          const docLinkHtml = 'Like what you see? Visit the ' +\n",
              "            '<a target=\"_blank\" href=https://colab.research.google.com/notebooks/data_table.ipynb>data table notebook</a>'\n",
              "            + ' to learn more about interactive tables.';\n",
              "          element.innerHTML = '';\n",
              "          dataTable['output_type'] = 'display_data';\n",
              "          await google.colab.output.renderOutput(dataTable, element);\n",
              "          const docLink = document.createElement('div');\n",
              "          docLink.innerHTML = docLinkHtml;\n",
              "          element.appendChild(docLink);\n",
              "        }\n",
              "      </script>\n",
              "    </div>\n",
              "  </div>\n",
              "  "
            ],
            "text/plain": [
              "                                           item_name  item_code  \\\n",
              "0                         Men's haircut, barber shop  111211101   \n",
              "1  Sardines, tinned, with skin, in vegetable oil,...  110113201   \n",
              "2                              Broken rice, 25%, BNR  110111106   \n",
              "3                                 Men's shirt, WKB-M  110312103   \n",
              "4                              Vacuum cleaner, WKB-M  110531111   \n",
              "\n",
              "                                             bh_name    bh_code  \\\n",
              "0  Hairdressing salons and personal grooming esta...  1112111.0   \n",
              "1            Preserved or processed fish and seafood  1101132.0   \n",
              "2                                               Rice  1101111.0   \n",
              "3                                           Garments  1103121.0   \n",
              "4  Major household appliances whether electric or...  1105311.0   \n",
              "\n",
              "               created_at    brand  created_fr_lat  created_fr_lon  \\\n",
              "0 2016-06-06 14:57:57.493      NaN      -34.612083      -58.424259   \n",
              "1 2016-04-19 17:47:57.557       GV      -31.466946      -64.163376   \n",
              "2 2016-03-08 18:43:48.048    jumbo      -34.590607      -58.408207   \n",
              "3 2016-04-10 17:33:59.277   george      -31.395527      -64.259949   \n",
              "4 2016-03-24 21:36:48.824  philips      -34.674744      -58.367367   \n",
              "\n",
              "                                obs_uid   size  quantity  total_size  \\\n",
              "0  0003134e-cb5d-4a81-bd25-770d67c4759b    1.0         1         1.0   \n",
              "1  0006d339-1ef4-4d27-9f99-aac6773c4633  160.0         1       160.0   \n",
              "2  0008d632-8fee-4957-972a-ceb1307e06b9    1.0         1         1.0   \n",
              "3  0008ec67-df92-4d7a-a859-b9d0bb95cacb    1.0         1         1.0   \n",
              "4  0008f63c-11f6-4f3b-9277-77a11288f361    1.0         1         1.0   \n",
              "\n",
              "   converted_total_size  normalized_total_size    price  normalized_price  \\\n",
              "0                   1.0                    1.0    50.00            50.000   \n",
              "1                 160.0                    0.8    29.30            36.625   \n",
              "2                   1.0                    1.0    12.49            12.490   \n",
              "3                   1.0                    1.0   349.00           349.000   \n",
              "4                   1.0                    1.0  1799.00          1799.000   \n",
              "\n",
              "      fx_usd   fx_local  normalized_price_usd  normalized_price_local  \\\n",
              "0  13.938950  13.938950              3.587071                  50.000   \n",
              "1  14.163950  14.163950              2.585790                  36.625   \n",
              "2  15.446950  15.446950              0.808574                  12.490   \n",
              "3  14.461316  14.461316             24.133350                 349.000   \n",
              "4  14.502950  14.502950            124.043729                1799.000   \n",
              "\n",
              "  currency     units reference_unit_of_measurement  reference_quantity  \\\n",
              "0      ARS  piece(s)                       Service                 1.0   \n",
              "1      ARS         g                          Gram               200.0   \n",
              "2      ARS        kg                      Kilogram                 1.0   \n",
              "3      ARS  piece(s)                         Piece                 1.0   \n",
              "4      ARS  piece(s)                         Piece                 1.0   \n",
              "\n",
              "                                 place_uuid                       place_name  \\\n",
              "0      0a9723ea-dcdd-478d-8928-4b019ac6b2d5            peluqueria gaacon 124   \n",
              "1      7db0b4f4-eb09-4f0c-bbb5-c5d052064f49                  walmart hoggins   \n",
              "2      61a47c51-c47c-4f2a-8f6b-914ff938218c  DISCO Av. Santa Fe 3047 Palermo   \n",
              "3  6a9f0ff13a333d85609d738923db6c49364c0e38      Walmart Córdoba Oeste Colón   \n",
              "4  a09e2842d54603845a7d84859854729151e485cc               Walmart Avellaneda   \n",
              "\n",
              "   place_lat  place_long                store_type country         l0  \\\n",
              "0 -34.610687  -58.424356  private_service_provider      AR  Argentina   \n",
              "1 -31.464056  -64.163222         small_medium_shop      AR  Argentina   \n",
              "2 -34.590394  -58.408558                       NaN      AR  Argentina   \n",
              "3 -31.394419  -64.260132         small_medium_shop      AR  Argentina   \n",
              "4 -34.676401  -58.365980         small_medium_shop      AR  Argentina   \n",
              "\n",
              "             l1            l2     l0_geo                  l1_geo  \\\n",
              "0  Buenos Aires  Buenos Aires  Argentina  Ciudad de Buenos Aires   \n",
              "1       Córdoba       Cordoba  Argentina                 Córdoba   \n",
              "2  Buenos Aires  Buenos Aires  Argentina  Ciudad de Buenos Aires   \n",
              "3       Córdoba       Cordoba  Argentina                 Córdoba   \n",
              "4  Buenos Aires  Buenos Aires  Argentina            Buenos Aires   \n",
              "\n",
              "             l2_geo        l3_geo  pop_density    dist_l2  city_radius  \\\n",
              "0  Distrito Federal  Buenos Aires   323.583880   2.397569           50   \n",
              "1           Capital       Córdoba    40.096850   6.264624           20   \n",
              "2  Distrito Federal  Buenos Aires   321.490285   4.491375           50   \n",
              "3           Capital       Córdoba    36.855019   6.533218           20   \n",
              "4        Avellaneda     Crucecita   118.042055  10.591399           50   \n",
              "\n",
              "                                       metadata_json  \n",
              "0         { \"price_includes_charges_value\" : \"yes\" }  \n",
              "1  { \"tin_can_packaging_value\" : \"yes\", \"sardines...  \n",
              "2  { \"packaged_unpackaged_value\" : \"prepacked\", \"...  \n",
              "3  { \"brand_value\" : \"george\", \"adult_child_value...  \n",
              "4  { \"vaccuum_features_value\" : \"[automatic_cord_...  "
            ]
          },
          "metadata": {},
          "execution_count": 5
        }
      ]
    },
    {
      "cell_type": "code",
      "metadata": {
        "ExecuteTime": {
          "end_time": "2020-09-12T08:52:07.888399Z",
          "start_time": "2020-09-12T08:52:07.885799Z"
        },
        "id": "boNiKqHTSZv1"
      },
      "source": [
        "# Vamos a seleccionar un conjunto de columnas para el ejercicio\n",
        "columns_to_select = ['item_name', 'item_code', 'created_at', 'size', 'quantity', 'price', 'store_type']"
      ],
      "execution_count": 6,
      "outputs": []
    },
    {
      "cell_type": "code",
      "metadata": {
        "ExecuteTime": {
          "end_time": "2020-09-12T08:52:08.281772Z",
          "start_time": "2020-09-12T08:52:08.275689Z"
        },
        "id": "eYw9rn7fSZv3",
        "colab": {
          "base_uri": "https://localhost:8080/",
          "height": 206
        },
        "outputId": "1ffe0166-d25a-41b2-f820-7be26b1de07d"
      },
      "source": [
        "data = initial_data[columns_to_select]\n",
        "data.head(5)"
      ],
      "execution_count": 8,
      "outputs": [
        {
          "output_type": "execute_result",
          "data": {
            "text/html": [
              "\n",
              "  <div id=\"df-bc1602eb-7a7d-46b8-ac1f-1c1f5cd36efd\">\n",
              "    <div class=\"colab-df-container\">\n",
              "      <div>\n",
              "<style scoped>\n",
              "    .dataframe tbody tr th:only-of-type {\n",
              "        vertical-align: middle;\n",
              "    }\n",
              "\n",
              "    .dataframe tbody tr th {\n",
              "        vertical-align: top;\n",
              "    }\n",
              "\n",
              "    .dataframe thead th {\n",
              "        text-align: right;\n",
              "    }\n",
              "</style>\n",
              "<table border=\"1\" class=\"dataframe\">\n",
              "  <thead>\n",
              "    <tr style=\"text-align: right;\">\n",
              "      <th></th>\n",
              "      <th>item_name</th>\n",
              "      <th>item_code</th>\n",
              "      <th>created_at</th>\n",
              "      <th>size</th>\n",
              "      <th>quantity</th>\n",
              "      <th>price</th>\n",
              "      <th>store_type</th>\n",
              "    </tr>\n",
              "  </thead>\n",
              "  <tbody>\n",
              "    <tr>\n",
              "      <th>0</th>\n",
              "      <td>Men's haircut, barber shop</td>\n",
              "      <td>111211101</td>\n",
              "      <td>2016-06-06 14:57:57.493</td>\n",
              "      <td>1.0</td>\n",
              "      <td>1</td>\n",
              "      <td>50.00</td>\n",
              "      <td>private_service_provider</td>\n",
              "    </tr>\n",
              "    <tr>\n",
              "      <th>1</th>\n",
              "      <td>Sardines, tinned, with skin, in vegetable oil,...</td>\n",
              "      <td>110113201</td>\n",
              "      <td>2016-04-19 17:47:57.557</td>\n",
              "      <td>160.0</td>\n",
              "      <td>1</td>\n",
              "      <td>29.30</td>\n",
              "      <td>small_medium_shop</td>\n",
              "    </tr>\n",
              "    <tr>\n",
              "      <th>2</th>\n",
              "      <td>Broken rice, 25%, BNR</td>\n",
              "      <td>110111106</td>\n",
              "      <td>2016-03-08 18:43:48.048</td>\n",
              "      <td>1.0</td>\n",
              "      <td>1</td>\n",
              "      <td>12.49</td>\n",
              "      <td>NaN</td>\n",
              "    </tr>\n",
              "    <tr>\n",
              "      <th>3</th>\n",
              "      <td>Men's shirt, WKB-M</td>\n",
              "      <td>110312103</td>\n",
              "      <td>2016-04-10 17:33:59.277</td>\n",
              "      <td>1.0</td>\n",
              "      <td>1</td>\n",
              "      <td>349.00</td>\n",
              "      <td>small_medium_shop</td>\n",
              "    </tr>\n",
              "    <tr>\n",
              "      <th>4</th>\n",
              "      <td>Vacuum cleaner, WKB-M</td>\n",
              "      <td>110531111</td>\n",
              "      <td>2016-03-24 21:36:48.824</td>\n",
              "      <td>1.0</td>\n",
              "      <td>1</td>\n",
              "      <td>1799.00</td>\n",
              "      <td>small_medium_shop</td>\n",
              "    </tr>\n",
              "  </tbody>\n",
              "</table>\n",
              "</div>\n",
              "      <button class=\"colab-df-convert\" onclick=\"convertToInteractive('df-bc1602eb-7a7d-46b8-ac1f-1c1f5cd36efd')\"\n",
              "              title=\"Convert this dataframe to an interactive table.\"\n",
              "              style=\"display:none;\">\n",
              "        \n",
              "  <svg xmlns=\"http://www.w3.org/2000/svg\" height=\"24px\"viewBox=\"0 0 24 24\"\n",
              "       width=\"24px\">\n",
              "    <path d=\"M0 0h24v24H0V0z\" fill=\"none\"/>\n",
              "    <path d=\"M18.56 5.44l.94 2.06.94-2.06 2.06-.94-2.06-.94-.94-2.06-.94 2.06-2.06.94zm-11 1L8.5 8.5l.94-2.06 2.06-.94-2.06-.94L8.5 2.5l-.94 2.06-2.06.94zm10 10l.94 2.06.94-2.06 2.06-.94-2.06-.94-.94-2.06-.94 2.06-2.06.94z\"/><path d=\"M17.41 7.96l-1.37-1.37c-.4-.4-.92-.59-1.43-.59-.52 0-1.04.2-1.43.59L10.3 9.45l-7.72 7.72c-.78.78-.78 2.05 0 2.83L4 21.41c.39.39.9.59 1.41.59.51 0 1.02-.2 1.41-.59l7.78-7.78 2.81-2.81c.8-.78.8-2.07 0-2.86zM5.41 20L4 18.59l7.72-7.72 1.47 1.35L5.41 20z\"/>\n",
              "  </svg>\n",
              "      </button>\n",
              "      \n",
              "  <style>\n",
              "    .colab-df-container {\n",
              "      display:flex;\n",
              "      flex-wrap:wrap;\n",
              "      gap: 12px;\n",
              "    }\n",
              "\n",
              "    .colab-df-convert {\n",
              "      background-color: #E8F0FE;\n",
              "      border: none;\n",
              "      border-radius: 50%;\n",
              "      cursor: pointer;\n",
              "      display: none;\n",
              "      fill: #1967D2;\n",
              "      height: 32px;\n",
              "      padding: 0 0 0 0;\n",
              "      width: 32px;\n",
              "    }\n",
              "\n",
              "    .colab-df-convert:hover {\n",
              "      background-color: #E2EBFA;\n",
              "      box-shadow: 0px 1px 2px rgba(60, 64, 67, 0.3), 0px 1px 3px 1px rgba(60, 64, 67, 0.15);\n",
              "      fill: #174EA6;\n",
              "    }\n",
              "\n",
              "    [theme=dark] .colab-df-convert {\n",
              "      background-color: #3B4455;\n",
              "      fill: #D2E3FC;\n",
              "    }\n",
              "\n",
              "    [theme=dark] .colab-df-convert:hover {\n",
              "      background-color: #434B5C;\n",
              "      box-shadow: 0px 1px 3px 1px rgba(0, 0, 0, 0.15);\n",
              "      filter: drop-shadow(0px 1px 2px rgba(0, 0, 0, 0.3));\n",
              "      fill: #FFFFFF;\n",
              "    }\n",
              "  </style>\n",
              "\n",
              "      <script>\n",
              "        const buttonEl =\n",
              "          document.querySelector('#df-bc1602eb-7a7d-46b8-ac1f-1c1f5cd36efd button.colab-df-convert');\n",
              "        buttonEl.style.display =\n",
              "          google.colab.kernel.accessAllowed ? 'block' : 'none';\n",
              "\n",
              "        async function convertToInteractive(key) {\n",
              "          const element = document.querySelector('#df-bc1602eb-7a7d-46b8-ac1f-1c1f5cd36efd');\n",
              "          const dataTable =\n",
              "            await google.colab.kernel.invokeFunction('convertToInteractive',\n",
              "                                                     [key], {});\n",
              "          if (!dataTable) return;\n",
              "\n",
              "          const docLinkHtml = 'Like what you see? Visit the ' +\n",
              "            '<a target=\"_blank\" href=https://colab.research.google.com/notebooks/data_table.ipynb>data table notebook</a>'\n",
              "            + ' to learn more about interactive tables.';\n",
              "          element.innerHTML = '';\n",
              "          dataTable['output_type'] = 'display_data';\n",
              "          await google.colab.output.renderOutput(dataTable, element);\n",
              "          const docLink = document.createElement('div');\n",
              "          docLink.innerHTML = docLinkHtml;\n",
              "          element.appendChild(docLink);\n",
              "        }\n",
              "      </script>\n",
              "    </div>\n",
              "  </div>\n",
              "  "
            ],
            "text/plain": [
              "                                           item_name  item_code  \\\n",
              "0                         Men's haircut, barber shop  111211101   \n",
              "1  Sardines, tinned, with skin, in vegetable oil,...  110113201   \n",
              "2                              Broken rice, 25%, BNR  110111106   \n",
              "3                                 Men's shirt, WKB-M  110312103   \n",
              "4                              Vacuum cleaner, WKB-M  110531111   \n",
              "\n",
              "               created_at   size  quantity    price                store_type  \n",
              "0 2016-06-06 14:57:57.493    1.0         1    50.00  private_service_provider  \n",
              "1 2016-04-19 17:47:57.557  160.0         1    29.30         small_medium_shop  \n",
              "2 2016-03-08 18:43:48.048    1.0         1    12.49                       NaN  \n",
              "3 2016-04-10 17:33:59.277    1.0         1   349.00         small_medium_shop  \n",
              "4 2016-03-24 21:36:48.824    1.0         1  1799.00         small_medium_shop  "
            ]
          },
          "metadata": {},
          "execution_count": 8
        }
      ]
    },
    {
      "cell_type": "code",
      "source": [
        "#Ordenamos los datos con respecto al tiempo, porque están desordenados\n",
        "data=data.sort_values(by=['created_at'])\n",
        "data.head(5)"
      ],
      "metadata": {
        "colab": {
          "base_uri": "https://localhost:8080/",
          "height": 206
        },
        "id": "hLCizurs28y_",
        "outputId": "7065419e-7a33-44ee-cece-b79999db2a7e"
      },
      "execution_count": 12,
      "outputs": [
        {
          "output_type": "execute_result",
          "data": {
            "text/html": [
              "\n",
              "  <div id=\"df-f08f64e4-154f-4cc3-ac83-c1bf4049f07d\">\n",
              "    <div class=\"colab-df-container\">\n",
              "      <div>\n",
              "<style scoped>\n",
              "    .dataframe tbody tr th:only-of-type {\n",
              "        vertical-align: middle;\n",
              "    }\n",
              "\n",
              "    .dataframe tbody tr th {\n",
              "        vertical-align: top;\n",
              "    }\n",
              "\n",
              "    .dataframe thead th {\n",
              "        text-align: right;\n",
              "    }\n",
              "</style>\n",
              "<table border=\"1\" class=\"dataframe\">\n",
              "  <thead>\n",
              "    <tr style=\"text-align: right;\">\n",
              "      <th></th>\n",
              "      <th>item_name</th>\n",
              "      <th>item_code</th>\n",
              "      <th>created_at</th>\n",
              "      <th>size</th>\n",
              "      <th>quantity</th>\n",
              "      <th>price</th>\n",
              "      <th>store_type</th>\n",
              "    </tr>\n",
              "  </thead>\n",
              "  <tbody>\n",
              "    <tr>\n",
              "      <th>7501</th>\n",
              "      <td>Wrist-watch, men's, CITIZEN Eco-Drive BM6060</td>\n",
              "      <td>111231102</td>\n",
              "      <td>2015-12-14 18:10:03.587</td>\n",
              "      <td>1.0</td>\n",
              "      <td>1</td>\n",
              "      <td>3470.00</td>\n",
              "      <td>NaN</td>\n",
              "    </tr>\n",
              "    <tr>\n",
              "      <th>13293</th>\n",
              "      <td>Men's lace-up shoes, WKB-L</td>\n",
              "      <td>110321101</td>\n",
              "      <td>2015-12-14 18:12:04.662</td>\n",
              "      <td>1.0</td>\n",
              "      <td>1</td>\n",
              "      <td>1900.00</td>\n",
              "      <td>NaN</td>\n",
              "    </tr>\n",
              "    <tr>\n",
              "      <th>33893</th>\n",
              "      <td>Dinner plate, flat, porcelain, WKB-L</td>\n",
              "      <td>110541104</td>\n",
              "      <td>2015-12-14 18:24:47.561</td>\n",
              "      <td>1.0</td>\n",
              "      <td>1</td>\n",
              "      <td>79.90</td>\n",
              "      <td>NaN</td>\n",
              "    </tr>\n",
              "    <tr>\n",
              "      <th>22728</th>\n",
              "      <td>Cooking salt, WKB</td>\n",
              "      <td>110119102</td>\n",
              "      <td>2015-12-14 19:59:06.881</td>\n",
              "      <td>500.0</td>\n",
              "      <td>1</td>\n",
              "      <td>5.89</td>\n",
              "      <td>NaN</td>\n",
              "    </tr>\n",
              "    <tr>\n",
              "      <th>19456</th>\n",
              "      <td>Water, still, large bottle, WKB</td>\n",
              "      <td>110122101</td>\n",
              "      <td>2015-12-14 19:59:57.011</td>\n",
              "      <td>2000.0</td>\n",
              "      <td>1</td>\n",
              "      <td>10.09</td>\n",
              "      <td>small_medium_shop</td>\n",
              "    </tr>\n",
              "  </tbody>\n",
              "</table>\n",
              "</div>\n",
              "      <button class=\"colab-df-convert\" onclick=\"convertToInteractive('df-f08f64e4-154f-4cc3-ac83-c1bf4049f07d')\"\n",
              "              title=\"Convert this dataframe to an interactive table.\"\n",
              "              style=\"display:none;\">\n",
              "        \n",
              "  <svg xmlns=\"http://www.w3.org/2000/svg\" height=\"24px\"viewBox=\"0 0 24 24\"\n",
              "       width=\"24px\">\n",
              "    <path d=\"M0 0h24v24H0V0z\" fill=\"none\"/>\n",
              "    <path d=\"M18.56 5.44l.94 2.06.94-2.06 2.06-.94-2.06-.94-.94-2.06-.94 2.06-2.06.94zm-11 1L8.5 8.5l.94-2.06 2.06-.94-2.06-.94L8.5 2.5l-.94 2.06-2.06.94zm10 10l.94 2.06.94-2.06 2.06-.94-2.06-.94-.94-2.06-.94 2.06-2.06.94z\"/><path d=\"M17.41 7.96l-1.37-1.37c-.4-.4-.92-.59-1.43-.59-.52 0-1.04.2-1.43.59L10.3 9.45l-7.72 7.72c-.78.78-.78 2.05 0 2.83L4 21.41c.39.39.9.59 1.41.59.51 0 1.02-.2 1.41-.59l7.78-7.78 2.81-2.81c.8-.78.8-2.07 0-2.86zM5.41 20L4 18.59l7.72-7.72 1.47 1.35L5.41 20z\"/>\n",
              "  </svg>\n",
              "      </button>\n",
              "      \n",
              "  <style>\n",
              "    .colab-df-container {\n",
              "      display:flex;\n",
              "      flex-wrap:wrap;\n",
              "      gap: 12px;\n",
              "    }\n",
              "\n",
              "    .colab-df-convert {\n",
              "      background-color: #E8F0FE;\n",
              "      border: none;\n",
              "      border-radius: 50%;\n",
              "      cursor: pointer;\n",
              "      display: none;\n",
              "      fill: #1967D2;\n",
              "      height: 32px;\n",
              "      padding: 0 0 0 0;\n",
              "      width: 32px;\n",
              "    }\n",
              "\n",
              "    .colab-df-convert:hover {\n",
              "      background-color: #E2EBFA;\n",
              "      box-shadow: 0px 1px 2px rgba(60, 64, 67, 0.3), 0px 1px 3px 1px rgba(60, 64, 67, 0.15);\n",
              "      fill: #174EA6;\n",
              "    }\n",
              "\n",
              "    [theme=dark] .colab-df-convert {\n",
              "      background-color: #3B4455;\n",
              "      fill: #D2E3FC;\n",
              "    }\n",
              "\n",
              "    [theme=dark] .colab-df-convert:hover {\n",
              "      background-color: #434B5C;\n",
              "      box-shadow: 0px 1px 3px 1px rgba(0, 0, 0, 0.15);\n",
              "      filter: drop-shadow(0px 1px 2px rgba(0, 0, 0, 0.3));\n",
              "      fill: #FFFFFF;\n",
              "    }\n",
              "  </style>\n",
              "\n",
              "      <script>\n",
              "        const buttonEl =\n",
              "          document.querySelector('#df-f08f64e4-154f-4cc3-ac83-c1bf4049f07d button.colab-df-convert');\n",
              "        buttonEl.style.display =\n",
              "          google.colab.kernel.accessAllowed ? 'block' : 'none';\n",
              "\n",
              "        async function convertToInteractive(key) {\n",
              "          const element = document.querySelector('#df-f08f64e4-154f-4cc3-ac83-c1bf4049f07d');\n",
              "          const dataTable =\n",
              "            await google.colab.kernel.invokeFunction('convertToInteractive',\n",
              "                                                     [key], {});\n",
              "          if (!dataTable) return;\n",
              "\n",
              "          const docLinkHtml = 'Like what you see? Visit the ' +\n",
              "            '<a target=\"_blank\" href=https://colab.research.google.com/notebooks/data_table.ipynb>data table notebook</a>'\n",
              "            + ' to learn more about interactive tables.';\n",
              "          element.innerHTML = '';\n",
              "          dataTable['output_type'] = 'display_data';\n",
              "          await google.colab.output.renderOutput(dataTable, element);\n",
              "          const docLink = document.createElement('div');\n",
              "          docLink.innerHTML = docLinkHtml;\n",
              "          element.appendChild(docLink);\n",
              "        }\n",
              "      </script>\n",
              "    </div>\n",
              "  </div>\n",
              "  "
            ],
            "text/plain": [
              "                                          item_name  item_code  \\\n",
              "7501   Wrist-watch, men's, CITIZEN Eco-Drive BM6060  111231102   \n",
              "13293                    Men's lace-up shoes, WKB-L  110321101   \n",
              "33893          Dinner plate, flat, porcelain, WKB-L  110541104   \n",
              "22728                             Cooking salt, WKB  110119102   \n",
              "19456               Water, still, large bottle, WKB  110122101   \n",
              "\n",
              "                   created_at    size  quantity    price         store_type  \n",
              "7501  2015-12-14 18:10:03.587     1.0         1  3470.00                NaN  \n",
              "13293 2015-12-14 18:12:04.662     1.0         1  1900.00                NaN  \n",
              "33893 2015-12-14 18:24:47.561     1.0         1    79.90                NaN  \n",
              "22728 2015-12-14 19:59:06.881   500.0         1     5.89                NaN  \n",
              "19456 2015-12-14 19:59:57.011  2000.0         1    10.09  small_medium_shop  "
            ]
          },
          "metadata": {},
          "execution_count": 12
        }
      ]
    },
    {
      "cell_type": "markdown",
      "source": [
        "# Aquí tienes información sobre todos los tipos de frecuencias que se pueden usar\n",
        "\n",
        "https://pandas.pydata.org/pandas-docs/stable/user_guide/timeseries.html#offset-aliases "
      ],
      "metadata": {
        "id": "W5chaDb3_rho"
      }
    },
    {
      "cell_type": "markdown",
      "metadata": {
        "id": "nPjXp0TGSZv8"
      },
      "source": [
        "# Combinando los datos en base a distintos intervalos de frecuencia\n",
        "\n",
        "### Vamos a usar la función resample()\n",
        "https://pandas.pydata.org/pandas-docs/stable/reference/api/pandas.DataFrame.resample.html\n",
        "\n"
      ]
    },
    {
      "cell_type": "markdown",
      "metadata": {
        "id": "E1bPqdFySZv8"
      },
      "source": [
        "## Agregando en Horas"
      ]
    },
    {
      "cell_type": "code",
      "metadata": {
        "ExecuteTime": {
          "end_time": "2020-09-12T12:11:30.970829Z",
          "start_time": "2020-09-12T12:11:30.946241Z"
        },
        "id": "F025ms4cSZv-",
        "colab": {
          "base_uri": "https://localhost:8080/"
        },
        "outputId": "ffec4b76-a297-463d-97c9-028b1be0e9cc"
      },
      "source": [
        "# Seleccionar el parámetro 'H' y especificar lo que se quiere agregar, por ejemplo, el precio (price) \n",
        "data.resample('H', on='created_at').price.sum().head(5)"
      ],
      "execution_count": 9,
      "outputs": [
        {
          "output_type": "execute_result",
          "data": {
            "text/plain": [
              "created_at\n",
              "2015-12-14 18:00:00    5449.90\n",
              "2015-12-14 19:00:00      15.98\n",
              "2015-12-14 20:00:00      66.98\n",
              "2015-12-14 21:00:00       0.00\n",
              "2015-12-14 22:00:00       0.00\n",
              "Freq: H, Name: price, dtype: float64"
            ]
          },
          "metadata": {},
          "execution_count": 9
        }
      ]
    },
    {
      "cell_type": "code",
      "metadata": {
        "ExecuteTime": {
          "end_time": "2020-09-12T12:11:35.645169Z",
          "start_time": "2020-09-12T12:11:35.621843Z"
        },
        "id": "frjzHhkzSZwA",
        "colab": {
          "base_uri": "https://localhost:8080/"
        },
        "outputId": "71b67ff2-a41f-47c2-cb77-aa69a6785f83"
      },
      "source": [
        "# Por defecto, el tiempo de inicio para frecuencia horaria es a las XX:00:00. Pero esto se puede cambiar con el parámetro 'offset'\n",
        "data.resample('H', on='created_at', offset='15Min10s').price.sum().head(5)"
      ],
      "execution_count": 21,
      "outputs": [
        {
          "output_type": "execute_result",
          "data": {
            "text/plain": [
              "created_at\n",
              "2015-12-14 17:15:10    5370.00\n",
              "2015-12-14 18:15:10      79.90\n",
              "2015-12-14 19:15:10      64.56\n",
              "2015-12-14 20:15:10      18.40\n",
              "2015-12-14 21:15:10       0.00\n",
              "Freq: H, Name: price, dtype: float64"
            ]
          },
          "metadata": {},
          "execution_count": 21
        }
      ]
    },
    {
      "cell_type": "code",
      "source": [
        "# Si queremos 2 horas, 5 horas, u otro número de horas, sería poniendo '2H', '5H', etc.\n",
        "data.resample('5H', on='created_at', offset='15Min10s').price.sum().head(5)"
      ],
      "metadata": {
        "colab": {
          "base_uri": "https://localhost:8080/"
        },
        "id": "UOWB-6jh4Um-",
        "outputId": "fc63646f-3396-451c-cadb-a555ff21a19e"
      },
      "execution_count": 24,
      "outputs": [
        {
          "output_type": "execute_result",
          "data": {
            "text/plain": [
              "created_at\n",
              "2015-12-14 15:15:10    5514.46\n",
              "2015-12-14 20:15:10      18.40\n",
              "2015-12-15 01:15:10       0.00\n",
              "2015-12-15 06:15:10       0.00\n",
              "2015-12-15 11:15:10     617.58\n",
              "Freq: 5H, Name: price, dtype: float64"
            ]
          },
          "metadata": {},
          "execution_count": 24
        }
      ]
    },
    {
      "cell_type": "markdown",
      "source": [
        "## Agregando en Minutos"
      ],
      "metadata": {
        "id": "nPGLi4_H7uzi"
      }
    },
    {
      "cell_type": "code",
      "source": [
        "# En minutos es con 'T' or 'min'\n",
        "data.resample('T', on='created_at').price.sum().head(5)"
      ],
      "metadata": {
        "colab": {
          "base_uri": "https://localhost:8080/"
        },
        "id": "TR0oXQd77uXJ",
        "outputId": "eb7a2786-6e17-499b-f48c-f46a8384e00a"
      },
      "execution_count": 31,
      "outputs": [
        {
          "output_type": "execute_result",
          "data": {
            "text/plain": [
              "created_at\n",
              "2015-12-14 18:10:00    3470.0\n",
              "2015-12-14 18:11:00       0.0\n",
              "2015-12-14 18:12:00    1900.0\n",
              "2015-12-14 18:13:00       0.0\n",
              "2015-12-14 18:14:00       0.0\n",
              "Freq: T, Name: price, dtype: float64"
            ]
          },
          "metadata": {},
          "execution_count": 31
        }
      ]
    },
    {
      "cell_type": "code",
      "source": [
        "# En minutos es con 'T' or 'min'\n",
        "data.resample('min', on='created_at').price.sum().head(5)"
      ],
      "metadata": {
        "colab": {
          "base_uri": "https://localhost:8080/"
        },
        "id": "YxKP3Nm377gu",
        "outputId": "d8da0415-4477-4bf3-f975-531de2358ee5"
      },
      "execution_count": 32,
      "outputs": [
        {
          "output_type": "execute_result",
          "data": {
            "text/plain": [
              "created_at\n",
              "2015-12-14 18:10:00    3470.0\n",
              "2015-12-14 18:11:00       0.0\n",
              "2015-12-14 18:12:00    1900.0\n",
              "2015-12-14 18:13:00       0.0\n",
              "2015-12-14 18:14:00       0.0\n",
              "Freq: T, Name: price, dtype: float64"
            ]
          },
          "metadata": {},
          "execution_count": 32
        }
      ]
    },
    {
      "cell_type": "code",
      "source": [
        "# Vamos a ver cada 5 minutos\n",
        "data.resample('5T', on='created_at').price.sum().head(5)"
      ],
      "metadata": {
        "colab": {
          "base_uri": "https://localhost:8080/"
        },
        "id": "mJwydY3c79MU",
        "outputId": "c189d503-1b99-439d-cf49-870dcf74fe53"
      },
      "execution_count": 33,
      "outputs": [
        {
          "output_type": "execute_result",
          "data": {
            "text/plain": [
              "created_at\n",
              "2015-12-14 18:10:00    5370.0\n",
              "2015-12-14 18:15:00       0.0\n",
              "2015-12-14 18:20:00      79.9\n",
              "2015-12-14 18:25:00       0.0\n",
              "2015-12-14 18:30:00       0.0\n",
              "Freq: 5T, Name: price, dtype: float64"
            ]
          },
          "metadata": {},
          "execution_count": 33
        }
      ]
    },
    {
      "cell_type": "markdown",
      "source": [
        "## Agregando en Segundos"
      ],
      "metadata": {
        "id": "iIgb23i-33Ik"
      }
    },
    {
      "cell_type": "code",
      "source": [
        "# Con el parámetro 'S' \n",
        "data.resample('S', on='created_at').price.sum().head(5)"
      ],
      "metadata": {
        "colab": {
          "base_uri": "https://localhost:8080/"
        },
        "id": "kFEtDOos3oZt",
        "outputId": "49e11dea-ab7b-4e44-c7a8-212fe530a87d"
      },
      "execution_count": 15,
      "outputs": [
        {
          "output_type": "execute_result",
          "data": {
            "text/plain": [
              "created_at\n",
              "2015-12-14 18:10:03    3470.0\n",
              "2015-12-14 18:10:04       0.0\n",
              "2015-12-14 18:10:05       0.0\n",
              "2015-12-14 18:10:06       0.0\n",
              "2015-12-14 18:10:07       0.0\n",
              "Freq: S, Name: price, dtype: float64"
            ]
          },
          "metadata": {},
          "execution_count": 15
        }
      ]
    },
    {
      "cell_type": "code",
      "source": [
        "# Si queremos en vez de 1 segundo, 10 segundos, 20 segundos, ..., X segundos, solo tenemos que poner '10S', o '20S' o el número de segundos que se quieran\n",
        "data.resample('10S', on='created_at').price.sum().head(5)"
      ],
      "metadata": {
        "colab": {
          "base_uri": "https://localhost:8080/"
        },
        "id": "sOlasrBp31lq",
        "outputId": "471b7cb2-5c81-47e1-8158-dd267d915eab"
      },
      "execution_count": 19,
      "outputs": [
        {
          "output_type": "execute_result",
          "data": {
            "text/plain": [
              "created_at\n",
              "2015-12-14 18:10:00    3470.0\n",
              "2015-12-14 18:10:10       0.0\n",
              "2015-12-14 18:10:20       0.0\n",
              "2015-12-14 18:10:30       0.0\n",
              "2015-12-14 18:10:40       0.0\n",
              "Freq: 10S, Name: price, dtype: float64"
            ]
          },
          "metadata": {},
          "execution_count": 19
        }
      ]
    },
    {
      "cell_type": "markdown",
      "metadata": {
        "id": "WxguywUXSZwC"
      },
      "source": [
        "## Agregando en base a Semanas"
      ]
    },
    {
      "cell_type": "code",
      "metadata": {
        "ExecuteTime": {
          "end_time": "2020-09-12T12:12:16.098608Z",
          "start_time": "2020-09-12T12:12:16.076561Z"
        },
        "id": "pbHA_OleSZwD",
        "colab": {
          "base_uri": "https://localhost:8080/"
        },
        "outputId": "0c3f1a6f-6185-4e88-8338-26634b1392b2"
      },
      "source": [
        "data.resample('W', on='created_at').price.sum().head(5)"
      ],
      "execution_count": 25,
      "outputs": [
        {
          "output_type": "execute_result",
          "data": {
            "text/plain": [
              "created_at\n",
              "2015-12-20     43056.38\n",
              "2015-12-27     67338.51\n",
              "2016-01-03     44434.59\n",
              "2016-01-10     18222.36\n",
              "2016-01-17    190838.54\n",
              "Freq: W-SUN, Name: price, dtype: float64"
            ]
          },
          "metadata": {},
          "execution_count": 25
        }
      ]
    },
    {
      "cell_type": "code",
      "metadata": {
        "ExecuteTime": {
          "end_time": "2020-09-12T12:12:40.430264Z",
          "start_time": "2020-09-12T12:12:40.406818Z"
        },
        "id": "EishUI96SZwF",
        "colab": {
          "base_uri": "https://localhost:8080/"
        },
        "outputId": "b7323381-78e6-47b7-efcb-fda969a15a01"
      },
      "source": [
        "# Por defecto la semana empieza en DOMINGO, pero lo podemos cambiar al día que se quiera, por ejemplo, Lunes \n",
        "data.resample('W-MON', on='created_at').price.sum().head(5)"
      ],
      "execution_count": 26,
      "outputs": [
        {
          "output_type": "execute_result",
          "data": {
            "text/plain": [
              "created_at\n",
              "2015-12-14     5532.86\n",
              "2015-12-21    38507.62\n",
              "2015-12-28    66863.29\n",
              "2016-01-04    53924.10\n",
              "2016-01-11    12608.69\n",
              "Freq: W-MON, Name: price, dtype: float64"
            ]
          },
          "metadata": {},
          "execution_count": 26
        }
      ]
    },
    {
      "cell_type": "markdown",
      "metadata": {
        "ExecuteTime": {
          "end_time": "2020-09-12T12:12:58.835586Z",
          "start_time": "2020-09-12T12:12:58.833203Z"
        },
        "id": "hZNnJdvbSZwH"
      },
      "source": [
        "## Agregando con respecto a Meses"
      ]
    },
    {
      "cell_type": "code",
      "metadata": {
        "ExecuteTime": {
          "end_time": "2020-09-12T12:13:58.371841Z",
          "start_time": "2020-09-12T12:13:58.350040Z"
        },
        "id": "dCVXzRr6SZwH",
        "colab": {
          "base_uri": "https://localhost:8080/"
        },
        "outputId": "aa39bc9c-a309-4872-d9d5-fab42f255729"
      },
      "source": [
        "data.resample('M', on='created_at').price.sum()"
      ],
      "execution_count": 27,
      "outputs": [
        {
          "output_type": "execute_result",
          "data": {
            "text/plain": [
              "created_at\n",
              "2015-12-31    1.538769e+05\n",
              "2016-01-31    4.297143e+05\n",
              "2016-02-29    9.352684e+05\n",
              "2016-03-31    7.425185e+06\n",
              "2016-04-30    1.384351e+07\n",
              "2016-05-31    1.253785e+07\n",
              "2016-06-30    7.264586e+06\n",
              "2016-07-31    6.739416e+06\n",
              "2016-08-31    2.721504e+06\n",
              "Freq: M, Name: price, dtype: float64"
            ]
          },
          "metadata": {},
          "execution_count": 27
        }
      ]
    },
    {
      "cell_type": "code",
      "metadata": {
        "ExecuteTime": {
          "end_time": "2020-09-12T12:14:00.721208Z",
          "start_time": "2020-09-12T12:14:00.699191Z"
        },
        "id": "tzmiyUB2SZwJ",
        "colab": {
          "base_uri": "https://localhost:8080/"
        },
        "outputId": "eb6d723f-1bcb-4924-b384-eddfbfb5e8c7"
      },
      "source": [
        "# Por defecto, los meses se agrupan con respecto al último día del mes. Vamos a ver cómo cambiarlo para empezar en el primer día del mes.\n",
        "# Es con 'MS' que significa Month Start\n",
        "data.resample('MS', on='created_at').price.sum()"
      ],
      "execution_count": 28,
      "outputs": [
        {
          "output_type": "execute_result",
          "data": {
            "text/plain": [
              "created_at\n",
              "2015-12-01    1.538769e+05\n",
              "2016-01-01    4.297143e+05\n",
              "2016-02-01    9.352684e+05\n",
              "2016-03-01    7.425185e+06\n",
              "2016-04-01    1.384351e+07\n",
              "2016-05-01    1.253785e+07\n",
              "2016-06-01    7.264586e+06\n",
              "2016-07-01    6.739416e+06\n",
              "2016-08-01    2.721504e+06\n",
              "Freq: MS, Name: price, dtype: float64"
            ]
          },
          "metadata": {},
          "execution_count": 28
        }
      ]
    },
    {
      "cell_type": "markdown",
      "metadata": {
        "ExecuteTime": {
          "end_time": "2020-09-12T12:14:34.288364Z",
          "start_time": "2020-09-12T12:14:34.285925Z"
        },
        "id": "ALlKum51SZwL"
      },
      "source": [
        "## Agregando cuando tenemos varias variables\n",
        "\n",
        "1. La variable item_code se agrega contando los datos únicos en cada hora.\n",
        "2. La variable quantity la vamos a agregar sumando todos los valores durante cada hora.\n",
        "3. La variable price la vamos a agregar sumando todos los valores durante cada hora."
      ]
    },
    {
      "cell_type": "code",
      "metadata": {
        "ExecuteTime": {
          "end_time": "2020-09-12T12:15:11.983641Z",
          "start_time": "2020-09-12T12:15:11.936738Z"
        },
        "id": "TTzNof9ySZwM",
        "colab": {
          "base_uri": "https://localhost:8080/",
          "height": 237
        },
        "outputId": "38f70c47-8860-4ba7-b61c-b3f0d631f2a8"
      },
      "source": [
        "data.resample('H', on='created_at').agg({'price':'sum', 'quantity':'sum','item_code':'nunique'}).head(5)"
      ],
      "execution_count": 29,
      "outputs": [
        {
          "output_type": "execute_result",
          "data": {
            "text/html": [
              "\n",
              "  <div id=\"df-fa07bd1d-4c7b-429b-8467-844e4b16f087\">\n",
              "    <div class=\"colab-df-container\">\n",
              "      <div>\n",
              "<style scoped>\n",
              "    .dataframe tbody tr th:only-of-type {\n",
              "        vertical-align: middle;\n",
              "    }\n",
              "\n",
              "    .dataframe tbody tr th {\n",
              "        vertical-align: top;\n",
              "    }\n",
              "\n",
              "    .dataframe thead th {\n",
              "        text-align: right;\n",
              "    }\n",
              "</style>\n",
              "<table border=\"1\" class=\"dataframe\">\n",
              "  <thead>\n",
              "    <tr style=\"text-align: right;\">\n",
              "      <th></th>\n",
              "      <th>price</th>\n",
              "      <th>quantity</th>\n",
              "      <th>item_code</th>\n",
              "    </tr>\n",
              "    <tr>\n",
              "      <th>created_at</th>\n",
              "      <th></th>\n",
              "      <th></th>\n",
              "      <th></th>\n",
              "    </tr>\n",
              "  </thead>\n",
              "  <tbody>\n",
              "    <tr>\n",
              "      <th>2015-12-14 18:00:00</th>\n",
              "      <td>5449.90</td>\n",
              "      <td>3</td>\n",
              "      <td>3</td>\n",
              "    </tr>\n",
              "    <tr>\n",
              "      <th>2015-12-14 19:00:00</th>\n",
              "      <td>15.98</td>\n",
              "      <td>2</td>\n",
              "      <td>2</td>\n",
              "    </tr>\n",
              "    <tr>\n",
              "      <th>2015-12-14 20:00:00</th>\n",
              "      <td>66.98</td>\n",
              "      <td>7</td>\n",
              "      <td>4</td>\n",
              "    </tr>\n",
              "    <tr>\n",
              "      <th>2015-12-14 21:00:00</th>\n",
              "      <td>0.00</td>\n",
              "      <td>0</td>\n",
              "      <td>0</td>\n",
              "    </tr>\n",
              "    <tr>\n",
              "      <th>2015-12-14 22:00:00</th>\n",
              "      <td>0.00</td>\n",
              "      <td>0</td>\n",
              "      <td>0</td>\n",
              "    </tr>\n",
              "  </tbody>\n",
              "</table>\n",
              "</div>\n",
              "      <button class=\"colab-df-convert\" onclick=\"convertToInteractive('df-fa07bd1d-4c7b-429b-8467-844e4b16f087')\"\n",
              "              title=\"Convert this dataframe to an interactive table.\"\n",
              "              style=\"display:none;\">\n",
              "        \n",
              "  <svg xmlns=\"http://www.w3.org/2000/svg\" height=\"24px\"viewBox=\"0 0 24 24\"\n",
              "       width=\"24px\">\n",
              "    <path d=\"M0 0h24v24H0V0z\" fill=\"none\"/>\n",
              "    <path d=\"M18.56 5.44l.94 2.06.94-2.06 2.06-.94-2.06-.94-.94-2.06-.94 2.06-2.06.94zm-11 1L8.5 8.5l.94-2.06 2.06-.94-2.06-.94L8.5 2.5l-.94 2.06-2.06.94zm10 10l.94 2.06.94-2.06 2.06-.94-2.06-.94-.94-2.06-.94 2.06-2.06.94z\"/><path d=\"M17.41 7.96l-1.37-1.37c-.4-.4-.92-.59-1.43-.59-.52 0-1.04.2-1.43.59L10.3 9.45l-7.72 7.72c-.78.78-.78 2.05 0 2.83L4 21.41c.39.39.9.59 1.41.59.51 0 1.02-.2 1.41-.59l7.78-7.78 2.81-2.81c.8-.78.8-2.07 0-2.86zM5.41 20L4 18.59l7.72-7.72 1.47 1.35L5.41 20z\"/>\n",
              "  </svg>\n",
              "      </button>\n",
              "      \n",
              "  <style>\n",
              "    .colab-df-container {\n",
              "      display:flex;\n",
              "      flex-wrap:wrap;\n",
              "      gap: 12px;\n",
              "    }\n",
              "\n",
              "    .colab-df-convert {\n",
              "      background-color: #E8F0FE;\n",
              "      border: none;\n",
              "      border-radius: 50%;\n",
              "      cursor: pointer;\n",
              "      display: none;\n",
              "      fill: #1967D2;\n",
              "      height: 32px;\n",
              "      padding: 0 0 0 0;\n",
              "      width: 32px;\n",
              "    }\n",
              "\n",
              "    .colab-df-convert:hover {\n",
              "      background-color: #E2EBFA;\n",
              "      box-shadow: 0px 1px 2px rgba(60, 64, 67, 0.3), 0px 1px 3px 1px rgba(60, 64, 67, 0.15);\n",
              "      fill: #174EA6;\n",
              "    }\n",
              "\n",
              "    [theme=dark] .colab-df-convert {\n",
              "      background-color: #3B4455;\n",
              "      fill: #D2E3FC;\n",
              "    }\n",
              "\n",
              "    [theme=dark] .colab-df-convert:hover {\n",
              "      background-color: #434B5C;\n",
              "      box-shadow: 0px 1px 3px 1px rgba(0, 0, 0, 0.15);\n",
              "      filter: drop-shadow(0px 1px 2px rgba(0, 0, 0, 0.3));\n",
              "      fill: #FFFFFF;\n",
              "    }\n",
              "  </style>\n",
              "\n",
              "      <script>\n",
              "        const buttonEl =\n",
              "          document.querySelector('#df-fa07bd1d-4c7b-429b-8467-844e4b16f087 button.colab-df-convert');\n",
              "        buttonEl.style.display =\n",
              "          google.colab.kernel.accessAllowed ? 'block' : 'none';\n",
              "\n",
              "        async function convertToInteractive(key) {\n",
              "          const element = document.querySelector('#df-fa07bd1d-4c7b-429b-8467-844e4b16f087');\n",
              "          const dataTable =\n",
              "            await google.colab.kernel.invokeFunction('convertToInteractive',\n",
              "                                                     [key], {});\n",
              "          if (!dataTable) return;\n",
              "\n",
              "          const docLinkHtml = 'Like what you see? Visit the ' +\n",
              "            '<a target=\"_blank\" href=https://colab.research.google.com/notebooks/data_table.ipynb>data table notebook</a>'\n",
              "            + ' to learn more about interactive tables.';\n",
              "          element.innerHTML = '';\n",
              "          dataTable['output_type'] = 'display_data';\n",
              "          await google.colab.output.renderOutput(dataTable, element);\n",
              "          const docLink = document.createElement('div');\n",
              "          docLink.innerHTML = docLinkHtml;\n",
              "          element.appendChild(docLink);\n",
              "        }\n",
              "      </script>\n",
              "    </div>\n",
              "  </div>\n",
              "  "
            ],
            "text/plain": [
              "                       price  quantity  item_code\n",
              "created_at                                       \n",
              "2015-12-14 18:00:00  5449.90         3          3\n",
              "2015-12-14 19:00:00    15.98         2          2\n",
              "2015-12-14 20:00:00    66.98         7          4\n",
              "2015-12-14 21:00:00     0.00         0          0\n",
              "2015-12-14 22:00:00     0.00         0          0"
            ]
          },
          "metadata": {},
          "execution_count": 29
        }
      ]
    },
    {
      "cell_type": "markdown",
      "source": [
        "### Varias variables, cada 30 segundos"
      ],
      "metadata": {
        "id": "L6Ey5ku07KqC"
      }
    },
    {
      "cell_type": "code",
      "source": [
        "data.resample('30S', on='created_at').agg({'price':'sum', 'quantity':'sum','item_code':'nunique'}).head(5)"
      ],
      "metadata": {
        "colab": {
          "base_uri": "https://localhost:8080/",
          "height": 237
        },
        "id": "2sMU2P9U6OkT",
        "outputId": "0943e80d-ae40-44a1-baf9-e8f2bce510ae"
      },
      "execution_count": 30,
      "outputs": [
        {
          "output_type": "execute_result",
          "data": {
            "text/html": [
              "\n",
              "  <div id=\"df-db45d574-ea28-4a1b-b9ba-0089e3b376e2\">\n",
              "    <div class=\"colab-df-container\">\n",
              "      <div>\n",
              "<style scoped>\n",
              "    .dataframe tbody tr th:only-of-type {\n",
              "        vertical-align: middle;\n",
              "    }\n",
              "\n",
              "    .dataframe tbody tr th {\n",
              "        vertical-align: top;\n",
              "    }\n",
              "\n",
              "    .dataframe thead th {\n",
              "        text-align: right;\n",
              "    }\n",
              "</style>\n",
              "<table border=\"1\" class=\"dataframe\">\n",
              "  <thead>\n",
              "    <tr style=\"text-align: right;\">\n",
              "      <th></th>\n",
              "      <th>price</th>\n",
              "      <th>quantity</th>\n",
              "      <th>item_code</th>\n",
              "    </tr>\n",
              "    <tr>\n",
              "      <th>created_at</th>\n",
              "      <th></th>\n",
              "      <th></th>\n",
              "      <th></th>\n",
              "    </tr>\n",
              "  </thead>\n",
              "  <tbody>\n",
              "    <tr>\n",
              "      <th>2015-12-14 18:10:00</th>\n",
              "      <td>3470.0</td>\n",
              "      <td>1</td>\n",
              "      <td>1</td>\n",
              "    </tr>\n",
              "    <tr>\n",
              "      <th>2015-12-14 18:10:30</th>\n",
              "      <td>0.0</td>\n",
              "      <td>0</td>\n",
              "      <td>0</td>\n",
              "    </tr>\n",
              "    <tr>\n",
              "      <th>2015-12-14 18:11:00</th>\n",
              "      <td>0.0</td>\n",
              "      <td>0</td>\n",
              "      <td>0</td>\n",
              "    </tr>\n",
              "    <tr>\n",
              "      <th>2015-12-14 18:11:30</th>\n",
              "      <td>0.0</td>\n",
              "      <td>0</td>\n",
              "      <td>0</td>\n",
              "    </tr>\n",
              "    <tr>\n",
              "      <th>2015-12-14 18:12:00</th>\n",
              "      <td>1900.0</td>\n",
              "      <td>1</td>\n",
              "      <td>1</td>\n",
              "    </tr>\n",
              "  </tbody>\n",
              "</table>\n",
              "</div>\n",
              "      <button class=\"colab-df-convert\" onclick=\"convertToInteractive('df-db45d574-ea28-4a1b-b9ba-0089e3b376e2')\"\n",
              "              title=\"Convert this dataframe to an interactive table.\"\n",
              "              style=\"display:none;\">\n",
              "        \n",
              "  <svg xmlns=\"http://www.w3.org/2000/svg\" height=\"24px\"viewBox=\"0 0 24 24\"\n",
              "       width=\"24px\">\n",
              "    <path d=\"M0 0h24v24H0V0z\" fill=\"none\"/>\n",
              "    <path d=\"M18.56 5.44l.94 2.06.94-2.06 2.06-.94-2.06-.94-.94-2.06-.94 2.06-2.06.94zm-11 1L8.5 8.5l.94-2.06 2.06-.94-2.06-.94L8.5 2.5l-.94 2.06-2.06.94zm10 10l.94 2.06.94-2.06 2.06-.94-2.06-.94-.94-2.06-.94 2.06-2.06.94z\"/><path d=\"M17.41 7.96l-1.37-1.37c-.4-.4-.92-.59-1.43-.59-.52 0-1.04.2-1.43.59L10.3 9.45l-7.72 7.72c-.78.78-.78 2.05 0 2.83L4 21.41c.39.39.9.59 1.41.59.51 0 1.02-.2 1.41-.59l7.78-7.78 2.81-2.81c.8-.78.8-2.07 0-2.86zM5.41 20L4 18.59l7.72-7.72 1.47 1.35L5.41 20z\"/>\n",
              "  </svg>\n",
              "      </button>\n",
              "      \n",
              "  <style>\n",
              "    .colab-df-container {\n",
              "      display:flex;\n",
              "      flex-wrap:wrap;\n",
              "      gap: 12px;\n",
              "    }\n",
              "\n",
              "    .colab-df-convert {\n",
              "      background-color: #E8F0FE;\n",
              "      border: none;\n",
              "      border-radius: 50%;\n",
              "      cursor: pointer;\n",
              "      display: none;\n",
              "      fill: #1967D2;\n",
              "      height: 32px;\n",
              "      padding: 0 0 0 0;\n",
              "      width: 32px;\n",
              "    }\n",
              "\n",
              "    .colab-df-convert:hover {\n",
              "      background-color: #E2EBFA;\n",
              "      box-shadow: 0px 1px 2px rgba(60, 64, 67, 0.3), 0px 1px 3px 1px rgba(60, 64, 67, 0.15);\n",
              "      fill: #174EA6;\n",
              "    }\n",
              "\n",
              "    [theme=dark] .colab-df-convert {\n",
              "      background-color: #3B4455;\n",
              "      fill: #D2E3FC;\n",
              "    }\n",
              "\n",
              "    [theme=dark] .colab-df-convert:hover {\n",
              "      background-color: #434B5C;\n",
              "      box-shadow: 0px 1px 3px 1px rgba(0, 0, 0, 0.15);\n",
              "      filter: drop-shadow(0px 1px 2px rgba(0, 0, 0, 0.3));\n",
              "      fill: #FFFFFF;\n",
              "    }\n",
              "  </style>\n",
              "\n",
              "      <script>\n",
              "        const buttonEl =\n",
              "          document.querySelector('#df-db45d574-ea28-4a1b-b9ba-0089e3b376e2 button.colab-df-convert');\n",
              "        buttonEl.style.display =\n",
              "          google.colab.kernel.accessAllowed ? 'block' : 'none';\n",
              "\n",
              "        async function convertToInteractive(key) {\n",
              "          const element = document.querySelector('#df-db45d574-ea28-4a1b-b9ba-0089e3b376e2');\n",
              "          const dataTable =\n",
              "            await google.colab.kernel.invokeFunction('convertToInteractive',\n",
              "                                                     [key], {});\n",
              "          if (!dataTable) return;\n",
              "\n",
              "          const docLinkHtml = 'Like what you see? Visit the ' +\n",
              "            '<a target=\"_blank\" href=https://colab.research.google.com/notebooks/data_table.ipynb>data table notebook</a>'\n",
              "            + ' to learn more about interactive tables.';\n",
              "          element.innerHTML = '';\n",
              "          dataTable['output_type'] = 'display_data';\n",
              "          await google.colab.output.renderOutput(dataTable, element);\n",
              "          const docLink = document.createElement('div');\n",
              "          docLink.innerHTML = docLinkHtml;\n",
              "          element.appendChild(docLink);\n",
              "        }\n",
              "      </script>\n",
              "    </div>\n",
              "  </div>\n",
              "  "
            ],
            "text/plain": [
              "                      price  quantity  item_code\n",
              "created_at                                      \n",
              "2015-12-14 18:10:00  3470.0         1          1\n",
              "2015-12-14 18:10:30     0.0         0          0\n",
              "2015-12-14 18:11:00     0.0         0          0\n",
              "2015-12-14 18:11:30     0.0         0          0\n",
              "2015-12-14 18:12:00  1900.0         1          1"
            ]
          },
          "metadata": {},
          "execution_count": 30
        }
      ]
    },
    {
      "cell_type": "markdown",
      "source": [
        "### Ahora cada 5 minutos "
      ],
      "metadata": {
        "id": "KdzOXect7Nwv"
      }
    },
    {
      "cell_type": "code",
      "source": [
        "data.resample('5T', on='created_at').agg({'price':'sum', 'quantity':'sum','item_code':'nunique'}).head(5)"
      ],
      "metadata": {
        "colab": {
          "base_uri": "https://localhost:8080/",
          "height": 237
        },
        "id": "trBH-LMD7S19",
        "outputId": "7adb2072-faa4-4013-df9c-7be844b79b12"
      },
      "execution_count": 38,
      "outputs": [
        {
          "output_type": "execute_result",
          "data": {
            "text/html": [
              "\n",
              "  <div id=\"df-c86a24bc-3412-4929-895c-d954e8df7488\">\n",
              "    <div class=\"colab-df-container\">\n",
              "      <div>\n",
              "<style scoped>\n",
              "    .dataframe tbody tr th:only-of-type {\n",
              "        vertical-align: middle;\n",
              "    }\n",
              "\n",
              "    .dataframe tbody tr th {\n",
              "        vertical-align: top;\n",
              "    }\n",
              "\n",
              "    .dataframe thead th {\n",
              "        text-align: right;\n",
              "    }\n",
              "</style>\n",
              "<table border=\"1\" class=\"dataframe\">\n",
              "  <thead>\n",
              "    <tr style=\"text-align: right;\">\n",
              "      <th></th>\n",
              "      <th>price</th>\n",
              "      <th>quantity</th>\n",
              "      <th>item_code</th>\n",
              "    </tr>\n",
              "    <tr>\n",
              "      <th>created_at</th>\n",
              "      <th></th>\n",
              "      <th></th>\n",
              "      <th></th>\n",
              "    </tr>\n",
              "  </thead>\n",
              "  <tbody>\n",
              "    <tr>\n",
              "      <th>2015-12-14 18:10:00</th>\n",
              "      <td>5370.0</td>\n",
              "      <td>2</td>\n",
              "      <td>2</td>\n",
              "    </tr>\n",
              "    <tr>\n",
              "      <th>2015-12-14 18:15:00</th>\n",
              "      <td>0.0</td>\n",
              "      <td>0</td>\n",
              "      <td>0</td>\n",
              "    </tr>\n",
              "    <tr>\n",
              "      <th>2015-12-14 18:20:00</th>\n",
              "      <td>79.9</td>\n",
              "      <td>1</td>\n",
              "      <td>1</td>\n",
              "    </tr>\n",
              "    <tr>\n",
              "      <th>2015-12-14 18:25:00</th>\n",
              "      <td>0.0</td>\n",
              "      <td>0</td>\n",
              "      <td>0</td>\n",
              "    </tr>\n",
              "    <tr>\n",
              "      <th>2015-12-14 18:30:00</th>\n",
              "      <td>0.0</td>\n",
              "      <td>0</td>\n",
              "      <td>0</td>\n",
              "    </tr>\n",
              "  </tbody>\n",
              "</table>\n",
              "</div>\n",
              "      <button class=\"colab-df-convert\" onclick=\"convertToInteractive('df-c86a24bc-3412-4929-895c-d954e8df7488')\"\n",
              "              title=\"Convert this dataframe to an interactive table.\"\n",
              "              style=\"display:none;\">\n",
              "        \n",
              "  <svg xmlns=\"http://www.w3.org/2000/svg\" height=\"24px\"viewBox=\"0 0 24 24\"\n",
              "       width=\"24px\">\n",
              "    <path d=\"M0 0h24v24H0V0z\" fill=\"none\"/>\n",
              "    <path d=\"M18.56 5.44l.94 2.06.94-2.06 2.06-.94-2.06-.94-.94-2.06-.94 2.06-2.06.94zm-11 1L8.5 8.5l.94-2.06 2.06-.94-2.06-.94L8.5 2.5l-.94 2.06-2.06.94zm10 10l.94 2.06.94-2.06 2.06-.94-2.06-.94-.94-2.06-.94 2.06-2.06.94z\"/><path d=\"M17.41 7.96l-1.37-1.37c-.4-.4-.92-.59-1.43-.59-.52 0-1.04.2-1.43.59L10.3 9.45l-7.72 7.72c-.78.78-.78 2.05 0 2.83L4 21.41c.39.39.9.59 1.41.59.51 0 1.02-.2 1.41-.59l7.78-7.78 2.81-2.81c.8-.78.8-2.07 0-2.86zM5.41 20L4 18.59l7.72-7.72 1.47 1.35L5.41 20z\"/>\n",
              "  </svg>\n",
              "      </button>\n",
              "      \n",
              "  <style>\n",
              "    .colab-df-container {\n",
              "      display:flex;\n",
              "      flex-wrap:wrap;\n",
              "      gap: 12px;\n",
              "    }\n",
              "\n",
              "    .colab-df-convert {\n",
              "      background-color: #E8F0FE;\n",
              "      border: none;\n",
              "      border-radius: 50%;\n",
              "      cursor: pointer;\n",
              "      display: none;\n",
              "      fill: #1967D2;\n",
              "      height: 32px;\n",
              "      padding: 0 0 0 0;\n",
              "      width: 32px;\n",
              "    }\n",
              "\n",
              "    .colab-df-convert:hover {\n",
              "      background-color: #E2EBFA;\n",
              "      box-shadow: 0px 1px 2px rgba(60, 64, 67, 0.3), 0px 1px 3px 1px rgba(60, 64, 67, 0.15);\n",
              "      fill: #174EA6;\n",
              "    }\n",
              "\n",
              "    [theme=dark] .colab-df-convert {\n",
              "      background-color: #3B4455;\n",
              "      fill: #D2E3FC;\n",
              "    }\n",
              "\n",
              "    [theme=dark] .colab-df-convert:hover {\n",
              "      background-color: #434B5C;\n",
              "      box-shadow: 0px 1px 3px 1px rgba(0, 0, 0, 0.15);\n",
              "      filter: drop-shadow(0px 1px 2px rgba(0, 0, 0, 0.3));\n",
              "      fill: #FFFFFF;\n",
              "    }\n",
              "  </style>\n",
              "\n",
              "      <script>\n",
              "        const buttonEl =\n",
              "          document.querySelector('#df-c86a24bc-3412-4929-895c-d954e8df7488 button.colab-df-convert');\n",
              "        buttonEl.style.display =\n",
              "          google.colab.kernel.accessAllowed ? 'block' : 'none';\n",
              "\n",
              "        async function convertToInteractive(key) {\n",
              "          const element = document.querySelector('#df-c86a24bc-3412-4929-895c-d954e8df7488');\n",
              "          const dataTable =\n",
              "            await google.colab.kernel.invokeFunction('convertToInteractive',\n",
              "                                                     [key], {});\n",
              "          if (!dataTable) return;\n",
              "\n",
              "          const docLinkHtml = 'Like what you see? Visit the ' +\n",
              "            '<a target=\"_blank\" href=https://colab.research.google.com/notebooks/data_table.ipynb>data table notebook</a>'\n",
              "            + ' to learn more about interactive tables.';\n",
              "          element.innerHTML = '';\n",
              "          dataTable['output_type'] = 'display_data';\n",
              "          await google.colab.output.renderOutput(dataTable, element);\n",
              "          const docLink = document.createElement('div');\n",
              "          docLink.innerHTML = docLinkHtml;\n",
              "          element.appendChild(docLink);\n",
              "        }\n",
              "      </script>\n",
              "    </div>\n",
              "  </div>\n",
              "  "
            ],
            "text/plain": [
              "                      price  quantity  item_code\n",
              "created_at                                      \n",
              "2015-12-14 18:10:00  5370.0         2          2\n",
              "2015-12-14 18:15:00     0.0         0          0\n",
              "2015-12-14 18:20:00    79.9         1          1\n",
              "2015-12-14 18:25:00     0.0         0          0\n",
              "2015-12-14 18:30:00     0.0         0          0"
            ]
          },
          "metadata": {},
          "execution_count": 38
        }
      ]
    },
    {
      "cell_type": "markdown",
      "source": [
        "### Ahora cada 5 días y con otras cantidades, por ejemplo: \n",
        "#### 'mean': media\n",
        "#### 'min': mínimo\n",
        "#### 'max': máximo\n",
        "#### 'count': cuenta todas las filas (la cantidad de datos) en ese intervalo\n",
        "#### 'nunique': cuenta las cantidades únicas (sin repetición) en ese intervalo"
      ],
      "metadata": {
        "id": "37XXOCJD8iNT"
      }
    },
    {
      "cell_type": "code",
      "source": [
        "data.resample('5D', on='created_at').agg({'price':'min', 'quantity':'max','item_code':'count'}).head(5)"
      ],
      "metadata": {
        "colab": {
          "base_uri": "https://localhost:8080/",
          "height": 237
        },
        "id": "F5f5OiUq8hd2",
        "outputId": "33225613-8414-4bb3-f44a-e18733d5c7ea"
      },
      "execution_count": 45,
      "outputs": [
        {
          "output_type": "execute_result",
          "data": {
            "text/html": [
              "\n",
              "  <div id=\"df-d40027e2-a057-47c9-9a05-fcdd7bd16f2f\">\n",
              "    <div class=\"colab-df-container\">\n",
              "      <div>\n",
              "<style scoped>\n",
              "    .dataframe tbody tr th:only-of-type {\n",
              "        vertical-align: middle;\n",
              "    }\n",
              "\n",
              "    .dataframe tbody tr th {\n",
              "        vertical-align: top;\n",
              "    }\n",
              "\n",
              "    .dataframe thead th {\n",
              "        text-align: right;\n",
              "    }\n",
              "</style>\n",
              "<table border=\"1\" class=\"dataframe\">\n",
              "  <thead>\n",
              "    <tr style=\"text-align: right;\">\n",
              "      <th></th>\n",
              "      <th>price</th>\n",
              "      <th>quantity</th>\n",
              "      <th>item_code</th>\n",
              "    </tr>\n",
              "    <tr>\n",
              "      <th>created_at</th>\n",
              "      <th></th>\n",
              "      <th></th>\n",
              "      <th></th>\n",
              "    </tr>\n",
              "  </thead>\n",
              "  <tbody>\n",
              "    <tr>\n",
              "      <th>2015-12-14</th>\n",
              "      <td>4.99</td>\n",
              "      <td>12</td>\n",
              "      <td>72</td>\n",
              "    </tr>\n",
              "    <tr>\n",
              "      <th>2015-12-19</th>\n",
              "      <td>5.99</td>\n",
              "      <td>4</td>\n",
              "      <td>45</td>\n",
              "    </tr>\n",
              "    <tr>\n",
              "      <th>2015-12-24</th>\n",
              "      <td>7.30</td>\n",
              "      <td>4</td>\n",
              "      <td>25</td>\n",
              "    </tr>\n",
              "    <tr>\n",
              "      <th>2015-12-29</th>\n",
              "      <td>6.99</td>\n",
              "      <td>20</td>\n",
              "      <td>50</td>\n",
              "    </tr>\n",
              "    <tr>\n",
              "      <th>2016-01-03</th>\n",
              "      <td>5.19</td>\n",
              "      <td>12</td>\n",
              "      <td>66</td>\n",
              "    </tr>\n",
              "  </tbody>\n",
              "</table>\n",
              "</div>\n",
              "      <button class=\"colab-df-convert\" onclick=\"convertToInteractive('df-d40027e2-a057-47c9-9a05-fcdd7bd16f2f')\"\n",
              "              title=\"Convert this dataframe to an interactive table.\"\n",
              "              style=\"display:none;\">\n",
              "        \n",
              "  <svg xmlns=\"http://www.w3.org/2000/svg\" height=\"24px\"viewBox=\"0 0 24 24\"\n",
              "       width=\"24px\">\n",
              "    <path d=\"M0 0h24v24H0V0z\" fill=\"none\"/>\n",
              "    <path d=\"M18.56 5.44l.94 2.06.94-2.06 2.06-.94-2.06-.94-.94-2.06-.94 2.06-2.06.94zm-11 1L8.5 8.5l.94-2.06 2.06-.94-2.06-.94L8.5 2.5l-.94 2.06-2.06.94zm10 10l.94 2.06.94-2.06 2.06-.94-2.06-.94-.94-2.06-.94 2.06-2.06.94z\"/><path d=\"M17.41 7.96l-1.37-1.37c-.4-.4-.92-.59-1.43-.59-.52 0-1.04.2-1.43.59L10.3 9.45l-7.72 7.72c-.78.78-.78 2.05 0 2.83L4 21.41c.39.39.9.59 1.41.59.51 0 1.02-.2 1.41-.59l7.78-7.78 2.81-2.81c.8-.78.8-2.07 0-2.86zM5.41 20L4 18.59l7.72-7.72 1.47 1.35L5.41 20z\"/>\n",
              "  </svg>\n",
              "      </button>\n",
              "      \n",
              "  <style>\n",
              "    .colab-df-container {\n",
              "      display:flex;\n",
              "      flex-wrap:wrap;\n",
              "      gap: 12px;\n",
              "    }\n",
              "\n",
              "    .colab-df-convert {\n",
              "      background-color: #E8F0FE;\n",
              "      border: none;\n",
              "      border-radius: 50%;\n",
              "      cursor: pointer;\n",
              "      display: none;\n",
              "      fill: #1967D2;\n",
              "      height: 32px;\n",
              "      padding: 0 0 0 0;\n",
              "      width: 32px;\n",
              "    }\n",
              "\n",
              "    .colab-df-convert:hover {\n",
              "      background-color: #E2EBFA;\n",
              "      box-shadow: 0px 1px 2px rgba(60, 64, 67, 0.3), 0px 1px 3px 1px rgba(60, 64, 67, 0.15);\n",
              "      fill: #174EA6;\n",
              "    }\n",
              "\n",
              "    [theme=dark] .colab-df-convert {\n",
              "      background-color: #3B4455;\n",
              "      fill: #D2E3FC;\n",
              "    }\n",
              "\n",
              "    [theme=dark] .colab-df-convert:hover {\n",
              "      background-color: #434B5C;\n",
              "      box-shadow: 0px 1px 3px 1px rgba(0, 0, 0, 0.15);\n",
              "      filter: drop-shadow(0px 1px 2px rgba(0, 0, 0, 0.3));\n",
              "      fill: #FFFFFF;\n",
              "    }\n",
              "  </style>\n",
              "\n",
              "      <script>\n",
              "        const buttonEl =\n",
              "          document.querySelector('#df-d40027e2-a057-47c9-9a05-fcdd7bd16f2f button.colab-df-convert');\n",
              "        buttonEl.style.display =\n",
              "          google.colab.kernel.accessAllowed ? 'block' : 'none';\n",
              "\n",
              "        async function convertToInteractive(key) {\n",
              "          const element = document.querySelector('#df-d40027e2-a057-47c9-9a05-fcdd7bd16f2f');\n",
              "          const dataTable =\n",
              "            await google.colab.kernel.invokeFunction('convertToInteractive',\n",
              "                                                     [key], {});\n",
              "          if (!dataTable) return;\n",
              "\n",
              "          const docLinkHtml = 'Like what you see? Visit the ' +\n",
              "            '<a target=\"_blank\" href=https://colab.research.google.com/notebooks/data_table.ipynb>data table notebook</a>'\n",
              "            + ' to learn more about interactive tables.';\n",
              "          element.innerHTML = '';\n",
              "          dataTable['output_type'] = 'display_data';\n",
              "          await google.colab.output.renderOutput(dataTable, element);\n",
              "          const docLink = document.createElement('div');\n",
              "          docLink.innerHTML = docLinkHtml;\n",
              "          element.appendChild(docLink);\n",
              "        }\n",
              "      </script>\n",
              "    </div>\n",
              "  </div>\n",
              "  "
            ],
            "text/plain": [
              "            price  quantity  item_code\n",
              "created_at                            \n",
              "2015-12-14   4.99        12         72\n",
              "2015-12-19   5.99         4         45\n",
              "2015-12-24   7.30         4         25\n",
              "2015-12-29   6.99        20         50\n",
              "2016-01-03   5.19        12         66"
            ]
          },
          "metadata": {},
          "execution_count": 45
        }
      ]
    },
    {
      "cell_type": "markdown",
      "metadata": {
        "ExecuteTime": {
          "end_time": "2020-09-12T12:15:50.667465Z",
          "start_time": "2020-09-12T12:15:50.663174Z"
        },
        "id": "rqWM1mVHSZwO"
      },
      "source": [
        "# Agrupando datos dependiendo de los valores de una de las variables\n",
        "\n",
        "### Vamos a usar la función Grouper()\n",
        "https://pandas.pydata.org/pandas-docs/stable/reference/api/pandas.Grouper.html"
      ]
    },
    {
      "cell_type": "markdown",
      "metadata": {
        "id": "W5a233vcSZwO"
      },
      "source": [
        "## Agregando el precio, para cada tipo de tienda (store_type), con frecuencia semanal."
      ]
    },
    {
      "cell_type": "code",
      "metadata": {
        "ExecuteTime": {
          "end_time": "2020-09-12T12:16:31.658285Z",
          "start_time": "2020-09-12T12:16:31.623573Z"
        },
        "id": "X1J-6dJKSZwO",
        "colab": {
          "base_uri": "https://localhost:8080/"
        },
        "outputId": "495e7326-1bb7-4ab7-8891-a42c160b081a"
      },
      "source": [
        "data.groupby([pd.Grouper(key='created_at', freq='W'), 'store_type']).price.sum().head(15)"
      ],
      "execution_count": 46,
      "outputs": [
        {
          "output_type": "execute_result",
          "data": {
            "text/plain": [
              "created_at  store_type                \n",
              "2015-12-20  other                          34300.00\n",
              "            public_semi_public_service       833.90\n",
              "            small_medium_shop               1206.04\n",
              "2015-12-27  small_medium_shop                923.09\n",
              "            specialized_shop               65164.00\n",
              "2016-01-03  small_medium_shop                355.10\n",
              "            specialized_shop               41922.00\n",
              "2016-01-10  other                           8300.00\n",
              "            small_medium_shop                412.55\n",
              "            specialized_shop                3979.00\n",
              "2016-01-17  market                           170.78\n",
              "            other                         144341.00\n",
              "            private_service_provider         220.00\n",
              "            public_semi_public_service       271.84\n",
              "            small_medium_shop              20908.29\n",
              "Name: price, dtype: float64"
            ]
          },
          "metadata": {},
          "execution_count": 46
        }
      ]
    },
    {
      "cell_type": "markdown",
      "metadata": {
        "id": "YYE2k2tqSZwQ"
      },
      "source": [
        "## Lo mismo, con frecuencia mensual"
      ]
    },
    {
      "cell_type": "code",
      "metadata": {
        "ExecuteTime": {
          "end_time": "2020-09-12T12:18:22.592401Z",
          "start_time": "2020-09-12T12:18:22.555505Z"
        },
        "scrolled": true,
        "id": "wtPqwZoDSZwR",
        "colab": {
          "base_uri": "https://localhost:8080/"
        },
        "outputId": "58d07c5b-23b9-4183-8463-e44caa451d8a"
      },
      "source": [
        "data.groupby([pd.Grouper(key='created_at', freq='M'), 'store_type']).price.sum().head(15)"
      ],
      "execution_count": 47,
      "outputs": [
        {
          "output_type": "execute_result",
          "data": {
            "text/plain": [
              "created_at  store_type                \n",
              "2015-12-31  other                          34300.00\n",
              "            public_semi_public_service       833.90\n",
              "            small_medium_shop               2484.23\n",
              "            specialized_shop              107086.00\n",
              "2016-01-31  market                           473.75\n",
              "            other                         314741.00\n",
              "            private_service_provider         325.00\n",
              "            public_semi_public_service       276.79\n",
              "            small_medium_shop              31042.79\n",
              "            specialized_shop               29648.44\n",
              "2016-02-29  market                          1974.04\n",
              "            other                         527950.00\n",
              "            private_service_provider        1620.00\n",
              "            public_semi_public_service      1028.52\n",
              "            small_medium_shop             224653.83\n",
              "Name: price, dtype: float64"
            ]
          },
          "metadata": {},
          "execution_count": 47
        }
      ]
    },
    {
      "cell_type": "markdown",
      "metadata": {
        "id": "WSMjYRVFSZwT"
      },
      "source": [
        "## Frecuencia mensual, pero dependiendo del tipo de item (item_name)"
      ]
    },
    {
      "cell_type": "code",
      "metadata": {
        "ExecuteTime": {
          "end_time": "2020-09-12T12:18:37.544787Z",
          "start_time": "2020-09-12T12:18:37.508017Z"
        },
        "scrolled": false,
        "id": "deEawO61SZwT",
        "colab": {
          "base_uri": "https://localhost:8080/"
        },
        "outputId": "804db192-a9ba-489c-9aaf-9a68bfe9ad88"
      },
      "source": [
        "data.groupby([pd.Grouper(key='created_at', freq='M'), 'item_name']).price.sum()"
      ],
      "execution_count": 49,
      "outputs": [
        {
          "output_type": "execute_result",
          "data": {
            "text/plain": [
              "created_at  item_name                                   \n",
              "2015-12-31  Bar soap, solid, SB                                33.17\n",
              "            Beer, domestic brand, single bottle, WKB           29.79\n",
              "            Black tea, BL                                      12.00\n",
              "            Black tea, in bags, WKB                            60.99\n",
              "            Bread, white, sliced, WKB                          85.45\n",
              "                                                              ...   \n",
              "2016-08-31  Wheat flour, not self-rising, BL                  150.38\n",
              "            White sugar, WKB                                  266.47\n",
              "            Women's haircut, basic hairdresser               7730.00\n",
              "            Wrist-watch, men's, CITIZEN Eco-Drive BM6060    52205.00\n",
              "            Yoghurt, plain, WKB                               150.96\n",
              "Name: price, Length: 1061, dtype: float64"
            ]
          },
          "metadata": {},
          "execution_count": 49
        }
      ]
    },
    {
      "cell_type": "markdown",
      "metadata": {
        "id": "yLqWwtakSZwV"
      },
      "source": [
        "## Agregación múltiple dependiendo del tipo de tienda, con frecuencia mensual. "
      ]
    },
    {
      "cell_type": "code",
      "metadata": {
        "ExecuteTime": {
          "end_time": "2020-09-12T12:17:24.458078Z",
          "start_time": "2020-09-12T12:17:24.401460Z"
        },
        "id": "uWC4UyBfSZwW",
        "colab": {
          "base_uri": "https://localhost:8080/",
          "height": 707
        },
        "outputId": "6ed2955d-63e3-42fd-e7ba-a174b6a631e3"
      },
      "source": [
        "data.groupby([pd.Grouper(key='created_at', freq='M'), 'store_type'])\\\n",
        "    .agg(unique_items=('item_code', 'nunique'),\n",
        "         total_quantity=('quantity','sum'),\n",
        "         total_amount=('price','sum')).head(20)"
      ],
      "execution_count": 48,
      "outputs": [
        {
          "output_type": "execute_result",
          "data": {
            "text/html": [
              "\n",
              "  <div id=\"df-dec68be3-6794-4338-8873-530f4ad065d3\">\n",
              "    <div class=\"colab-df-container\">\n",
              "      <div>\n",
              "<style scoped>\n",
              "    .dataframe tbody tr th:only-of-type {\n",
              "        vertical-align: middle;\n",
              "    }\n",
              "\n",
              "    .dataframe tbody tr th {\n",
              "        vertical-align: top;\n",
              "    }\n",
              "\n",
              "    .dataframe thead th {\n",
              "        text-align: right;\n",
              "    }\n",
              "</style>\n",
              "<table border=\"1\" class=\"dataframe\">\n",
              "  <thead>\n",
              "    <tr style=\"text-align: right;\">\n",
              "      <th></th>\n",
              "      <th></th>\n",
              "      <th>unique_items</th>\n",
              "      <th>total_quantity</th>\n",
              "      <th>total_amount</th>\n",
              "    </tr>\n",
              "    <tr>\n",
              "      <th>created_at</th>\n",
              "      <th>store_type</th>\n",
              "      <th></th>\n",
              "      <th></th>\n",
              "      <th></th>\n",
              "    </tr>\n",
              "  </thead>\n",
              "  <tbody>\n",
              "    <tr>\n",
              "      <th rowspan=\"4\" valign=\"top\">2015-12-31</th>\n",
              "      <th>other</th>\n",
              "      <td>3</td>\n",
              "      <td>6</td>\n",
              "      <td>34300.00</td>\n",
              "    </tr>\n",
              "    <tr>\n",
              "      <th>public_semi_public_service</th>\n",
              "      <td>1</td>\n",
              "      <td>1</td>\n",
              "      <td>833.90</td>\n",
              "    </tr>\n",
              "    <tr>\n",
              "      <th>small_medium_shop</th>\n",
              "      <td>27</td>\n",
              "      <td>88</td>\n",
              "      <td>2484.23</td>\n",
              "    </tr>\n",
              "    <tr>\n",
              "      <th>specialized_shop</th>\n",
              "      <td>2</td>\n",
              "      <td>20</td>\n",
              "      <td>107086.00</td>\n",
              "    </tr>\n",
              "    <tr>\n",
              "      <th rowspan=\"6\" valign=\"top\">2016-01-31</th>\n",
              "      <th>market</th>\n",
              "      <td>2</td>\n",
              "      <td>12</td>\n",
              "      <td>473.75</td>\n",
              "    </tr>\n",
              "    <tr>\n",
              "      <th>other</th>\n",
              "      <td>5</td>\n",
              "      <td>43</td>\n",
              "      <td>314741.00</td>\n",
              "    </tr>\n",
              "    <tr>\n",
              "      <th>private_service_provider</th>\n",
              "      <td>2</td>\n",
              "      <td>2</td>\n",
              "      <td>325.00</td>\n",
              "    </tr>\n",
              "    <tr>\n",
              "      <th>public_semi_public_service</th>\n",
              "      <td>2</td>\n",
              "      <td>2</td>\n",
              "      <td>276.79</td>\n",
              "    </tr>\n",
              "    <tr>\n",
              "      <th>small_medium_shop</th>\n",
              "      <td>73</td>\n",
              "      <td>472</td>\n",
              "      <td>31042.79</td>\n",
              "    </tr>\n",
              "    <tr>\n",
              "      <th>specialized_shop</th>\n",
              "      <td>7</td>\n",
              "      <td>24</td>\n",
              "      <td>29648.44</td>\n",
              "    </tr>\n",
              "    <tr>\n",
              "      <th rowspan=\"6\" valign=\"top\">2016-02-29</th>\n",
              "      <th>market</th>\n",
              "      <td>27</td>\n",
              "      <td>41</td>\n",
              "      <td>1974.04</td>\n",
              "    </tr>\n",
              "    <tr>\n",
              "      <th>other</th>\n",
              "      <td>4</td>\n",
              "      <td>75</td>\n",
              "      <td>527950.00</td>\n",
              "    </tr>\n",
              "    <tr>\n",
              "      <th>private_service_provider</th>\n",
              "      <td>5</td>\n",
              "      <td>11</td>\n",
              "      <td>1620.00</td>\n",
              "    </tr>\n",
              "    <tr>\n",
              "      <th>public_semi_public_service</th>\n",
              "      <td>2</td>\n",
              "      <td>5</td>\n",
              "      <td>1028.52</td>\n",
              "    </tr>\n",
              "    <tr>\n",
              "      <th>small_medium_shop</th>\n",
              "      <td>77</td>\n",
              "      <td>1033</td>\n",
              "      <td>224653.83</td>\n",
              "    </tr>\n",
              "    <tr>\n",
              "      <th>specialized_shop</th>\n",
              "      <td>16</td>\n",
              "      <td>77</td>\n",
              "      <td>117859.88</td>\n",
              "    </tr>\n",
              "    <tr>\n",
              "      <th rowspan=\"4\" valign=\"top\">2016-03-31</th>\n",
              "      <th>None</th>\n",
              "      <td>2</td>\n",
              "      <td>18</td>\n",
              "      <td>164.20</td>\n",
              "    </tr>\n",
              "    <tr>\n",
              "      <th>bulk_discount_shop</th>\n",
              "      <td>2</td>\n",
              "      <td>3</td>\n",
              "      <td>222.90</td>\n",
              "    </tr>\n",
              "    <tr>\n",
              "      <th>market</th>\n",
              "      <td>5</td>\n",
              "      <td>101</td>\n",
              "      <td>1807.68</td>\n",
              "    </tr>\n",
              "    <tr>\n",
              "      <th>other</th>\n",
              "      <td>6</td>\n",
              "      <td>487</td>\n",
              "      <td>3355801.43</td>\n",
              "    </tr>\n",
              "  </tbody>\n",
              "</table>\n",
              "</div>\n",
              "      <button class=\"colab-df-convert\" onclick=\"convertToInteractive('df-dec68be3-6794-4338-8873-530f4ad065d3')\"\n",
              "              title=\"Convert this dataframe to an interactive table.\"\n",
              "              style=\"display:none;\">\n",
              "        \n",
              "  <svg xmlns=\"http://www.w3.org/2000/svg\" height=\"24px\"viewBox=\"0 0 24 24\"\n",
              "       width=\"24px\">\n",
              "    <path d=\"M0 0h24v24H0V0z\" fill=\"none\"/>\n",
              "    <path d=\"M18.56 5.44l.94 2.06.94-2.06 2.06-.94-2.06-.94-.94-2.06-.94 2.06-2.06.94zm-11 1L8.5 8.5l.94-2.06 2.06-.94-2.06-.94L8.5 2.5l-.94 2.06-2.06.94zm10 10l.94 2.06.94-2.06 2.06-.94-2.06-.94-.94-2.06-.94 2.06-2.06.94z\"/><path d=\"M17.41 7.96l-1.37-1.37c-.4-.4-.92-.59-1.43-.59-.52 0-1.04.2-1.43.59L10.3 9.45l-7.72 7.72c-.78.78-.78 2.05 0 2.83L4 21.41c.39.39.9.59 1.41.59.51 0 1.02-.2 1.41-.59l7.78-7.78 2.81-2.81c.8-.78.8-2.07 0-2.86zM5.41 20L4 18.59l7.72-7.72 1.47 1.35L5.41 20z\"/>\n",
              "  </svg>\n",
              "      </button>\n",
              "      \n",
              "  <style>\n",
              "    .colab-df-container {\n",
              "      display:flex;\n",
              "      flex-wrap:wrap;\n",
              "      gap: 12px;\n",
              "    }\n",
              "\n",
              "    .colab-df-convert {\n",
              "      background-color: #E8F0FE;\n",
              "      border: none;\n",
              "      border-radius: 50%;\n",
              "      cursor: pointer;\n",
              "      display: none;\n",
              "      fill: #1967D2;\n",
              "      height: 32px;\n",
              "      padding: 0 0 0 0;\n",
              "      width: 32px;\n",
              "    }\n",
              "\n",
              "    .colab-df-convert:hover {\n",
              "      background-color: #E2EBFA;\n",
              "      box-shadow: 0px 1px 2px rgba(60, 64, 67, 0.3), 0px 1px 3px 1px rgba(60, 64, 67, 0.15);\n",
              "      fill: #174EA6;\n",
              "    }\n",
              "\n",
              "    [theme=dark] .colab-df-convert {\n",
              "      background-color: #3B4455;\n",
              "      fill: #D2E3FC;\n",
              "    }\n",
              "\n",
              "    [theme=dark] .colab-df-convert:hover {\n",
              "      background-color: #434B5C;\n",
              "      box-shadow: 0px 1px 3px 1px rgba(0, 0, 0, 0.15);\n",
              "      filter: drop-shadow(0px 1px 2px rgba(0, 0, 0, 0.3));\n",
              "      fill: #FFFFFF;\n",
              "    }\n",
              "  </style>\n",
              "\n",
              "      <script>\n",
              "        const buttonEl =\n",
              "          document.querySelector('#df-dec68be3-6794-4338-8873-530f4ad065d3 button.colab-df-convert');\n",
              "        buttonEl.style.display =\n",
              "          google.colab.kernel.accessAllowed ? 'block' : 'none';\n",
              "\n",
              "        async function convertToInteractive(key) {\n",
              "          const element = document.querySelector('#df-dec68be3-6794-4338-8873-530f4ad065d3');\n",
              "          const dataTable =\n",
              "            await google.colab.kernel.invokeFunction('convertToInteractive',\n",
              "                                                     [key], {});\n",
              "          if (!dataTable) return;\n",
              "\n",
              "          const docLinkHtml = 'Like what you see? Visit the ' +\n",
              "            '<a target=\"_blank\" href=https://colab.research.google.com/notebooks/data_table.ipynb>data table notebook</a>'\n",
              "            + ' to learn more about interactive tables.';\n",
              "          element.innerHTML = '';\n",
              "          dataTable['output_type'] = 'display_data';\n",
              "          await google.colab.output.renderOutput(dataTable, element);\n",
              "          const docLink = document.createElement('div');\n",
              "          docLink.innerHTML = docLinkHtml;\n",
              "          element.appendChild(docLink);\n",
              "        }\n",
              "      </script>\n",
              "    </div>\n",
              "  </div>\n",
              "  "
            ],
            "text/plain": [
              "                                       unique_items  total_quantity  \\\n",
              "created_at store_type                                                 \n",
              "2015-12-31 other                                  3               6   \n",
              "           public_semi_public_service             1               1   \n",
              "           small_medium_shop                     27              88   \n",
              "           specialized_shop                       2              20   \n",
              "2016-01-31 market                                 2              12   \n",
              "           other                                  5              43   \n",
              "           private_service_provider               2               2   \n",
              "           public_semi_public_service             2               2   \n",
              "           small_medium_shop                     73             472   \n",
              "           specialized_shop                       7              24   \n",
              "2016-02-29 market                                27              41   \n",
              "           other                                  4              75   \n",
              "           private_service_provider               5              11   \n",
              "           public_semi_public_service             2               5   \n",
              "           small_medium_shop                     77            1033   \n",
              "           specialized_shop                      16              77   \n",
              "2016-03-31 None                                   2              18   \n",
              "           bulk_discount_shop                     2               3   \n",
              "           market                                 5             101   \n",
              "           other                                  6             487   \n",
              "\n",
              "                                       total_amount  \n",
              "created_at store_type                                \n",
              "2015-12-31 other                           34300.00  \n",
              "           public_semi_public_service        833.90  \n",
              "           small_medium_shop                2484.23  \n",
              "           specialized_shop               107086.00  \n",
              "2016-01-31 market                            473.75  \n",
              "           other                          314741.00  \n",
              "           private_service_provider          325.00  \n",
              "           public_semi_public_service        276.79  \n",
              "           small_medium_shop               31042.79  \n",
              "           specialized_shop                29648.44  \n",
              "2016-02-29 market                           1974.04  \n",
              "           other                          527950.00  \n",
              "           private_service_provider         1620.00  \n",
              "           public_semi_public_service       1028.52  \n",
              "           small_medium_shop              224653.83  \n",
              "           specialized_shop               117859.88  \n",
              "2016-03-31 None                              164.20  \n",
              "           bulk_discount_shop                222.90  \n",
              "           market                           1807.68  \n",
              "           other                         3355801.43  "
            ]
          },
          "metadata": {},
          "execution_count": 48
        }
      ]
    }
  ]
}